{
 "cells": [
  {
   "cell_type": "markdown",
   "source": [
    "### Open, Read and Close Textfile"
   ],
   "metadata": {
    "collapsed": false,
    "pycharm": {
     "name": "#%% md\n"
    }
   }
  },
  {
   "cell_type": "code",
   "execution_count": 20,
   "outputs": [
    {
     "data": {
      "text/plain": "'NLP is important for scientific, economic, social, and cultural reasons. NLP is experiencing rapid growth as its theories and methods are deployed in a variety of new language technologies. For this reason it is important for a wide range of people to have a working knowledge of NLP. Within industry, this includes people in human-computer interaction, business information analysis, and web software development. Within academia, it includes people in areas from humanities computing and corpus linguistics through to computer science and artificial intelligence. (To many people in academia, NLP is known by the name of \"Computational Linguistics.\")'"
     },
     "execution_count": 20,
     "metadata": {},
     "output_type": "execute_result"
    }
   ],
   "source": [
    "data_file1 = \"data/Data_1.txt\"\n",
    "with open(file=data_file1) as f:\n",
    "    text = f.read()\n",
    "\n",
    "text"
   ],
   "metadata": {
    "collapsed": false,
    "pycharm": {
     "name": "#%%\n"
    }
   }
  },
  {
   "cell_type": "markdown",
   "source": [
    "# Q1. Form Tokenisation"
   ],
   "metadata": {
    "collapsed": false
   }
  },
  {
   "cell_type": "markdown",
   "source": [
    "## 1. Demonstrate sentence segmentation and report the output. (6 marks)"
   ],
   "metadata": {
    "collapsed": false,
    "pycharm": {
     "name": "#%% md\n"
    }
   }
  },
  {
   "cell_type": "markdown",
   "source": [
    "### Sentence Segmentation using Split Function"
   ],
   "metadata": {
    "collapsed": false,
    "pycharm": {
     "name": "#%% md\n"
    }
   }
  },
  {
   "cell_type": "code",
   "execution_count": 10,
   "outputs": [
    {
     "data": {
      "text/plain": "['NLP is important for scientific, economic, social, and cultural reasons',\n 'NLP is experiencing rapid growth as its theories and methods are deployed in a variety of new language technologies',\n 'For this reason it is important for a wide range of people to have a working knowledge of NLP',\n 'Within industry, this includes people in human-computer interaction, business information analysis, and web software development',\n 'Within academia, it includes people in areas from humanities computing and corpus linguistics through to computer science and artificial intelligence',\n '(To many people in academia, NLP is known by the name of \"Computational Linguistics.\")']"
     },
     "execution_count": 10,
     "metadata": {},
     "output_type": "execute_result"
    }
   ],
   "source": [
    "sentences = text.split(\". \")\n",
    "\n",
    "sentences"
   ],
   "metadata": {
    "collapsed": false,
    "pycharm": {
     "name": "#%%\n"
    }
   }
  },
  {
   "cell_type": "markdown",
   "source": [
    "### Sentence Segmentation using Regular Expression Function"
   ],
   "metadata": {
    "collapsed": false,
    "pycharm": {
     "name": "#%% md\n"
    }
   }
  },
  {
   "cell_type": "code",
   "execution_count": 18,
   "outputs": [
    {
     "data": {
      "text/plain": "['NLP is important for scientific, economic, social, and cultural reasons',\n 'NLP is experiencing rapid growth as its theories and methods are deployed in a variety of new language technologies',\n 'For this reason it is important for a wide range of people to have a working knowledge of NLP',\n 'Within industry, this includes people in human-computer interaction, business information analysis, and web software development',\n 'Within academia, it includes people in areas from humanities computing and corpus linguistics through to computer science and artificial intelligence',\n '(To many people in academia, NLP is known by the name of \"Computational Linguistics.\")']"
     },
     "execution_count": 18,
     "metadata": {},
     "output_type": "execute_result"
    }
   ],
   "source": [
    "import re\n",
    "\n",
    "sentences = re.split(r\"[.!?] \", text)\n",
    "\n",
    "sentences"
   ],
   "metadata": {
    "collapsed": false,
    "pycharm": {
     "name": "#%%\n"
    }
   }
  },
  {
   "cell_type": "markdown",
   "source": [
    "### Sentence Segmentation using NLTK Function"
   ],
   "metadata": {
    "collapsed": false,
    "pycharm": {
     "name": "#%% md\n"
    }
   }
  },
  {
   "cell_type": "code",
   "execution_count": 19,
   "outputs": [
    {
     "data": {
      "text/plain": "['NLP is important for scientific, economic, social, and cultural reasons.',\n 'NLP is experiencing rapid growth as its theories and methods are deployed in a variety of new language technologies.',\n 'For this reason it is important for a wide range of people to have a working knowledge of NLP.',\n 'Within industry, this includes people in human-computer interaction, business information analysis, and web software development.',\n 'Within academia, it includes people in areas from humanities computing and corpus linguistics through to computer science and artificial intelligence.',\n '(To many people in academia, NLP is known by the name of \"Computational Linguistics.\")']"
     },
     "execution_count": 19,
     "metadata": {},
     "output_type": "execute_result"
    }
   ],
   "source": [
    "import nltk\n",
    "\n",
    "sentences = nltk.sent_tokenize(text)\n",
    "\n",
    "sentences"
   ],
   "metadata": {
    "collapsed": false,
    "pycharm": {
     "name": "#%%\n"
    }
   }
  },
  {
   "cell_type": "markdown",
   "source": [
    "## 2. Demonstrate word tokenisation using the split function, Regular Expression and NLTK packages separately and report the output. (10 marks)"
   ],
   "metadata": {
    "collapsed": false,
    "pycharm": {
     "name": "#%% md\n"
    }
   }
  },
  {
   "cell_type": "markdown",
   "source": [
    "### Word Tokenisation using Split Function"
   ],
   "metadata": {
    "collapsed": false,
    "pycharm": {
     "name": "#%% md\n"
    }
   }
  },
  {
   "cell_type": "code",
   "execution_count": 21,
   "outputs": [
    {
     "data": {
      "text/plain": "['NLP',\n 'is',\n 'important',\n 'for',\n 'scientific,',\n 'economic,',\n 'social,',\n 'and',\n 'cultural',\n 'reasons.',\n 'NLP',\n 'is',\n 'experiencing',\n 'rapid',\n 'growth',\n 'as',\n 'its',\n 'theories',\n 'and',\n 'methods',\n 'are',\n 'deployed',\n 'in',\n 'a',\n 'variety',\n 'of',\n 'new',\n 'language',\n 'technologies.',\n 'For',\n 'this',\n 'reason',\n 'it',\n 'is',\n 'important',\n 'for',\n 'a',\n 'wide',\n 'range',\n 'of',\n 'people',\n 'to',\n 'have',\n 'a',\n 'working',\n 'knowledge',\n 'of',\n 'NLP.',\n 'Within',\n 'industry,',\n 'this',\n 'includes',\n 'people',\n 'in',\n 'human-computer',\n 'interaction,',\n 'business',\n 'information',\n 'analysis,',\n 'and',\n 'web',\n 'software',\n 'development.',\n 'Within',\n 'academia,',\n 'it',\n 'includes',\n 'people',\n 'in',\n 'areas',\n 'from',\n 'humanities',\n 'computing',\n 'and',\n 'corpus',\n 'linguistics',\n 'through',\n 'to',\n 'computer',\n 'science',\n 'and',\n 'artificial',\n 'intelligence.',\n '(To',\n 'many',\n 'people',\n 'in',\n 'academia,',\n 'NLP',\n 'is',\n 'known',\n 'by',\n 'the',\n 'name',\n 'of',\n '\"Computational',\n 'Linguistics.\")']"
     },
     "execution_count": 21,
     "metadata": {},
     "output_type": "execute_result"
    }
   ],
   "source": [
    "words = text.split()\n",
    "\n",
    "words"
   ],
   "metadata": {
    "collapsed": false,
    "pycharm": {
     "name": "#%%\n"
    }
   }
  },
  {
   "cell_type": "markdown",
   "source": [
    "### Word Tokenisation using Regular Expression Function"
   ],
   "metadata": {
    "collapsed": false
   }
  },
  {
   "cell_type": "code",
   "execution_count": 22,
   "outputs": [
    {
     "data": {
      "text/plain": "['NLP',\n 'is',\n 'important',\n 'for',\n 'scientific',\n 'economic',\n 'social',\n 'and',\n 'cultural',\n 'reasons',\n 'NLP',\n 'is',\n 'experiencing',\n 'rapid',\n 'growth',\n 'as',\n 'its',\n 'theories',\n 'and',\n 'methods',\n 'are',\n 'deployed',\n 'in',\n 'a',\n 'variety',\n 'of',\n 'new',\n 'language',\n 'technologies',\n 'For',\n 'this',\n 'reason',\n 'it',\n 'is',\n 'important',\n 'for',\n 'a',\n 'wide',\n 'range',\n 'of',\n 'people',\n 'to',\n 'have',\n 'a',\n 'working',\n 'knowledge',\n 'of',\n 'NLP',\n 'Within',\n 'industry',\n 'this',\n 'includes',\n 'people',\n 'in',\n 'human',\n 'computer',\n 'interaction',\n 'business',\n 'information',\n 'analysis',\n 'and',\n 'web',\n 'software',\n 'development',\n 'Within',\n 'academia',\n 'it',\n 'includes',\n 'people',\n 'in',\n 'areas',\n 'from',\n 'humanities',\n 'computing',\n 'and',\n 'corpus',\n 'linguistics',\n 'through',\n 'to',\n 'computer',\n 'science',\n 'and',\n 'artificial',\n 'intelligence',\n 'To',\n 'many',\n 'people',\n 'in',\n 'academia',\n 'NLP',\n 'is',\n 'known',\n 'by',\n 'the',\n 'name',\n 'of',\n 'Computational',\n 'Linguistics',\n '']"
     },
     "execution_count": 22,
     "metadata": {},
     "output_type": "execute_result"
    }
   ],
   "source": [
    "words = re.split(r\" \", text)\n",
    "\n",
    "words"
   ],
   "metadata": {
    "collapsed": false,
    "pycharm": {
     "name": "#%%\n"
    }
   }
  },
  {
   "cell_type": "code",
   "execution_count": 23,
   "outputs": [
    {
     "data": {
      "text/plain": "['NLP',\n 'is',\n 'important',\n 'for',\n 'scientific,',\n 'economic,',\n 'social,',\n 'and',\n 'cultural',\n 'reasons.',\n 'NLP',\n 'is',\n 'experiencing',\n 'rapid',\n 'growth',\n 'as',\n 'its',\n 'theories',\n 'and',\n 'methods',\n 'are',\n 'deployed',\n 'in',\n 'a',\n 'variety',\n 'of',\n 'new',\n 'language',\n 'technologies.',\n 'For',\n 'this',\n 'reason',\n 'it',\n 'is',\n 'important',\n 'for',\n 'a',\n 'wide',\n 'range',\n 'of',\n 'people',\n 'to',\n 'have',\n 'a',\n 'working',\n 'knowledge',\n 'of',\n 'NLP.',\n 'Within',\n 'industry,',\n 'this',\n 'includes',\n 'people',\n 'in',\n 'human-computer',\n 'interaction,',\n 'business',\n 'information',\n 'analysis,',\n 'and',\n 'web',\n 'software',\n 'development.',\n 'Within',\n 'academia,',\n 'it',\n 'includes',\n 'people',\n 'in',\n 'areas',\n 'from',\n 'humanities',\n 'computing',\n 'and',\n 'corpus',\n 'linguistics',\n 'through',\n 'to',\n 'computer',\n 'science',\n 'and',\n 'artificial',\n 'intelligence.',\n '(To',\n 'many',\n 'people',\n 'in',\n 'academia,',\n 'NLP',\n 'is',\n 'known',\n 'by',\n 'the',\n 'name',\n 'of',\n '\"Computational',\n 'Linguistics.\")']"
     },
     "execution_count": 23,
     "metadata": {},
     "output_type": "execute_result"
    }
   ],
   "source": [
    "words = re.split(r\"\\W+\", text)\n",
    "\n",
    "words"
   ],
   "metadata": {
    "collapsed": false,
    "pycharm": {
     "name": "#%%\n"
    }
   }
  },
  {
   "cell_type": "markdown",
   "source": [
    "### Word Tokenisation using NLTK Function"
   ],
   "metadata": {
    "collapsed": false
   }
  },
  {
   "cell_type": "code",
   "execution_count": 24,
   "outputs": [
    {
     "data": {
      "text/plain": "['NLP',\n 'is',\n 'important',\n 'for',\n 'scientific',\n ',',\n 'economic',\n ',',\n 'social',\n ',',\n 'and',\n 'cultural',\n 'reasons',\n '.',\n 'NLP',\n 'is',\n 'experiencing',\n 'rapid',\n 'growth',\n 'as',\n 'its',\n 'theories',\n 'and',\n 'methods',\n 'are',\n 'deployed',\n 'in',\n 'a',\n 'variety',\n 'of',\n 'new',\n 'language',\n 'technologies',\n '.',\n 'For',\n 'this',\n 'reason',\n 'it',\n 'is',\n 'important',\n 'for',\n 'a',\n 'wide',\n 'range',\n 'of',\n 'people',\n 'to',\n 'have',\n 'a',\n 'working',\n 'knowledge',\n 'of',\n 'NLP',\n '.',\n 'Within',\n 'industry',\n ',',\n 'this',\n 'includes',\n 'people',\n 'in',\n 'human-computer',\n 'interaction',\n ',',\n 'business',\n 'information',\n 'analysis',\n ',',\n 'and',\n 'web',\n 'software',\n 'development',\n '.',\n 'Within',\n 'academia',\n ',',\n 'it',\n 'includes',\n 'people',\n 'in',\n 'areas',\n 'from',\n 'humanities',\n 'computing',\n 'and',\n 'corpus',\n 'linguistics',\n 'through',\n 'to',\n 'computer',\n 'science',\n 'and',\n 'artificial',\n 'intelligence',\n '.',\n '(',\n 'To',\n 'many',\n 'people',\n 'in',\n 'academia',\n ',',\n 'NLP',\n 'is',\n 'known',\n 'by',\n 'the',\n 'name',\n 'of',\n '``',\n 'Computational',\n 'Linguistics',\n '.',\n \"''\",\n ')']"
     },
     "execution_count": 24,
     "metadata": {},
     "output_type": "execute_result"
    }
   ],
   "source": [
    "words = nltk.word_tokenize(text)\n",
    "\n",
    "words"
   ],
   "metadata": {
    "collapsed": false,
    "pycharm": {
     "name": "#%%\n"
    }
   }
  },
  {
   "cell_type": "markdown",
   "source": [
    "### Word Tokenisation using TextBlob Function"
   ],
   "metadata": {
    "collapsed": false,
    "pycharm": {
     "name": "#%% md\n"
    }
   }
  },
  {
   "cell_type": "code",
   "execution_count": 25,
   "outputs": [
    {
     "data": {
      "text/plain": "WordList(['NLP', 'is', 'important', 'for', 'scientific', 'economic', 'social', 'and', 'cultural', 'reasons', 'NLP', 'is', 'experiencing', 'rapid', 'growth', 'as', 'its', 'theories', 'and', 'methods', 'are', 'deployed', 'in', 'a', 'variety', 'of', 'new', 'language', 'technologies', 'For', 'this', 'reason', 'it', 'is', 'important', 'for', 'a', 'wide', 'range', 'of', 'people', 'to', 'have', 'a', 'working', 'knowledge', 'of', 'NLP', 'Within', 'industry', 'this', 'includes', 'people', 'in', 'human-computer', 'interaction', 'business', 'information', 'analysis', 'and', 'web', 'software', 'development', 'Within', 'academia', 'it', 'includes', 'people', 'in', 'areas', 'from', 'humanities', 'computing', 'and', 'corpus', 'linguistics', 'through', 'to', 'computer', 'science', 'and', 'artificial', 'intelligence', 'To', 'many', 'people', 'in', 'academia', 'NLP', 'is', 'known', 'by', 'the', 'name', 'of', 'Computational', 'Linguistics'])"
     },
     "execution_count": 25,
     "metadata": {},
     "output_type": "execute_result"
    }
   ],
   "source": [
    "from textblob import TextBlob\n",
    "\n",
    "blob = TextBlob(text)\n",
    "words = blob.words\n",
    "\n",
    "words"
   ],
   "metadata": {
    "collapsed": false,
    "pycharm": {
     "name": "#%%\n"
    }
   }
  },
  {
   "cell_type": "code",
   "execution_count": null,
   "outputs": [],
   "source": [],
   "metadata": {
    "collapsed": false,
    "pycharm": {
     "name": "#%%\n"
    }
   }
  },
  {
   "cell_type": "code",
   "execution_count": null,
   "outputs": [],
   "source": [
    "import nltk\n",
    "tokens = nltk.tokenize.sent_tokenize(\"I am a pig. I am a dog. I am a cat.\")\n",
    "print(tokens)"
   ],
   "metadata": {
    "collapsed": false,
    "pycharm": {
     "name": "#%%\n"
    }
   }
  }
 ],
 "metadata": {
  "kernelspec": {
   "display_name": "Python 3",
   "language": "python",
   "name": "python3"
  },
  "language_info": {
   "codemirror_mode": {
    "name": "ipython",
    "version": 2
   },
   "file_extension": ".py",
   "mimetype": "text/x-python",
   "name": "python",
   "nbconvert_exporter": "python",
   "pygments_lexer": "ipython2",
   "version": "2.7.6"
  }
 },
 "nbformat": 4,
 "nbformat_minor": 0
}