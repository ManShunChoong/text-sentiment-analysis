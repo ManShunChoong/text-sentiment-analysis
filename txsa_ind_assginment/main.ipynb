{
 "cells": [
  {
   "cell_type": "markdown",
   "source": [
    "### Open, Read and Close Data_1 Textfile"
   ],
   "metadata": {
    "collapsed": false,
    "pycharm": {
     "name": "#%% md\n"
    }
   }
  },
  {
   "cell_type": "code",
   "execution_count": 3,
   "outputs": [
    {
     "data": {
      "text/plain": "'NLP is important for scientific, economic, social, and cultural reasons. NLP is experiencing rapid growth as its theories and methods are deployed in a variety of new language technologies. For this reason it is important for a wide range of people to have a working knowledge of NLP. Within industry, this includes people in human-computer interaction, business information analysis, and web software development. Within academia, it includes people in areas from humanities computing and corpus linguistics through to computer science and artificial intelligence. (To many people in academia, NLP is known by the name of \"Computational Linguistics.\")'"
     },
     "execution_count": 3,
     "metadata": {},
     "output_type": "execute_result"
    }
   ],
   "source": [
    "data_file1 = \"data/Data_1.txt\"\n",
    "with open(file=data_file1) as f:\n",
    "    text = f.read()\n",
    "\n",
    "text"
   ],
   "metadata": {
    "collapsed": false,
    "pycharm": {
     "name": "#%%\n"
    }
   }
  },
  {
   "cell_type": "markdown",
   "source": [
    "# Q1. Form Tokenisation"
   ],
   "metadata": {
    "collapsed": false
   }
  },
  {
   "cell_type": "markdown",
   "source": [
    "## 1. Demonstrate sentence segmentation and report the output. (6 marks)"
   ],
   "metadata": {
    "collapsed": false,
    "pycharm": {
     "name": "#%% md\n"
    }
   }
  },
  {
   "cell_type": "markdown",
   "source": [
    "### Sentence Segmentation using Split Function"
   ],
   "metadata": {
    "collapsed": false,
    "pycharm": {
     "name": "#%% md\n"
    }
   }
  },
  {
   "cell_type": "code",
   "execution_count": 4,
   "outputs": [
    {
     "data": {
      "text/plain": "['NLP is important for scientific, economic, social, and cultural reasons',\n 'NLP is experiencing rapid growth as its theories and methods are deployed in a variety of new language technologies',\n 'For this reason it is important for a wide range of people to have a working knowledge of NLP',\n 'Within industry, this includes people in human-computer interaction, business information analysis, and web software development',\n 'Within academia, it includes people in areas from humanities computing and corpus linguistics through to computer science and artificial intelligence',\n '(To many people in academia, NLP is known by the name of \"Computational Linguistics.\")']"
     },
     "execution_count": 4,
     "metadata": {},
     "output_type": "execute_result"
    }
   ],
   "source": [
    "sentences = text.split(\". \")\n",
    "\n",
    "sentences"
   ],
   "metadata": {
    "collapsed": false,
    "pycharm": {
     "name": "#%%\n"
    }
   }
  },
  {
   "cell_type": "markdown",
   "source": [
    "### Sentence Segmentation using Regular Expression Function"
   ],
   "metadata": {
    "collapsed": false,
    "pycharm": {
     "name": "#%% md\n"
    }
   }
  },
  {
   "cell_type": "code",
   "execution_count": 5,
   "outputs": [
    {
     "data": {
      "text/plain": "['NLP is important for scientific, economic, social, and cultural reasons',\n 'NLP is experiencing rapid growth as its theories and methods are deployed in a variety of new language technologies',\n 'For this reason it is important for a wide range of people to have a working knowledge of NLP',\n 'Within industry, this includes people in human-computer interaction, business information analysis, and web software development',\n 'Within academia, it includes people in areas from humanities computing and corpus linguistics through to computer science and artificial intelligence',\n '(To many people in academia, NLP is known by the name of \"Computational Linguistics.\")']"
     },
     "execution_count": 5,
     "metadata": {},
     "output_type": "execute_result"
    }
   ],
   "source": [
    "import re\n",
    "\n",
    "sentences = re.split(r\"[.!?] \", text)\n",
    "\n",
    "sentences"
   ],
   "metadata": {
    "collapsed": false,
    "pycharm": {
     "name": "#%%\n"
    }
   }
  },
  {
   "cell_type": "markdown",
   "source": [
    "### Sentence Segmentation using NLTK Function"
   ],
   "metadata": {
    "collapsed": false,
    "pycharm": {
     "name": "#%% md\n"
    }
   }
  },
  {
   "cell_type": "code",
   "execution_count": 6,
   "outputs": [
    {
     "data": {
      "text/plain": "['NLP is important for scientific, economic, social, and cultural reasons.',\n 'NLP is experiencing rapid growth as its theories and methods are deployed in a variety of new language technologies.',\n 'For this reason it is important for a wide range of people to have a working knowledge of NLP.',\n 'Within industry, this includes people in human-computer interaction, business information analysis, and web software development.',\n 'Within academia, it includes people in areas from humanities computing and corpus linguistics through to computer science and artificial intelligence.',\n '(To many people in academia, NLP is known by the name of \"Computational Linguistics.\")']"
     },
     "execution_count": 6,
     "metadata": {},
     "output_type": "execute_result"
    }
   ],
   "source": [
    "import nltk\n",
    "\n",
    "sentences = nltk.sent_tokenize(text)\n",
    "\n",
    "sentences"
   ],
   "metadata": {
    "collapsed": false,
    "pycharm": {
     "name": "#%%\n"
    }
   }
  },
  {
   "cell_type": "markdown",
   "source": [
    "## 2. Demonstrate word tokenisation using the split function, Regular Expression and NLTK packages separately and report the output. (10 marks)"
   ],
   "metadata": {
    "collapsed": false,
    "pycharm": {
     "name": "#%% md\n"
    }
   }
  },
  {
   "cell_type": "markdown",
   "source": [
    "### Word Tokenisation using Split Function"
   ],
   "metadata": {
    "collapsed": false,
    "pycharm": {
     "name": "#%% md\n"
    }
   }
  },
  {
   "cell_type": "code",
   "execution_count": 7,
   "outputs": [
    {
     "data": {
      "text/plain": "['NLP',\n 'is',\n 'important',\n 'for',\n 'scientific,',\n 'economic,',\n 'social,',\n 'and',\n 'cultural',\n 'reasons.',\n 'NLP',\n 'is',\n 'experiencing',\n 'rapid',\n 'growth',\n 'as',\n 'its',\n 'theories',\n 'and',\n 'methods',\n 'are',\n 'deployed',\n 'in',\n 'a',\n 'variety',\n 'of',\n 'new',\n 'language',\n 'technologies.',\n 'For',\n 'this',\n 'reason',\n 'it',\n 'is',\n 'important',\n 'for',\n 'a',\n 'wide',\n 'range',\n 'of',\n 'people',\n 'to',\n 'have',\n 'a',\n 'working',\n 'knowledge',\n 'of',\n 'NLP.',\n 'Within',\n 'industry,',\n 'this',\n 'includes',\n 'people',\n 'in',\n 'human-computer',\n 'interaction,',\n 'business',\n 'information',\n 'analysis,',\n 'and',\n 'web',\n 'software',\n 'development.',\n 'Within',\n 'academia,',\n 'it',\n 'includes',\n 'people',\n 'in',\n 'areas',\n 'from',\n 'humanities',\n 'computing',\n 'and',\n 'corpus',\n 'linguistics',\n 'through',\n 'to',\n 'computer',\n 'science',\n 'and',\n 'artificial',\n 'intelligence.',\n '(To',\n 'many',\n 'people',\n 'in',\n 'academia,',\n 'NLP',\n 'is',\n 'known',\n 'by',\n 'the',\n 'name',\n 'of',\n '\"Computational',\n 'Linguistics.\")']"
     },
     "execution_count": 7,
     "metadata": {},
     "output_type": "execute_result"
    }
   ],
   "source": [
    "words = text.split()\n",
    "\n",
    "words"
   ],
   "metadata": {
    "collapsed": false,
    "pycharm": {
     "name": "#%%\n"
    }
   }
  },
  {
   "cell_type": "markdown",
   "source": [
    "### Word Tokenisation using Regular Expression Function"
   ],
   "metadata": {
    "collapsed": false
   }
  },
  {
   "cell_type": "code",
   "execution_count": 8,
   "outputs": [
    {
     "data": {
      "text/plain": "['NLP',\n 'is',\n 'important',\n 'for',\n 'scientific,',\n 'economic,',\n 'social,',\n 'and',\n 'cultural',\n 'reasons.',\n 'NLP',\n 'is',\n 'experiencing',\n 'rapid',\n 'growth',\n 'as',\n 'its',\n 'theories',\n 'and',\n 'methods',\n 'are',\n 'deployed',\n 'in',\n 'a',\n 'variety',\n 'of',\n 'new',\n 'language',\n 'technologies.',\n 'For',\n 'this',\n 'reason',\n 'it',\n 'is',\n 'important',\n 'for',\n 'a',\n 'wide',\n 'range',\n 'of',\n 'people',\n 'to',\n 'have',\n 'a',\n 'working',\n 'knowledge',\n 'of',\n 'NLP.',\n 'Within',\n 'industry,',\n 'this',\n 'includes',\n 'people',\n 'in',\n 'human-computer',\n 'interaction,',\n 'business',\n 'information',\n 'analysis,',\n 'and',\n 'web',\n 'software',\n 'development.',\n 'Within',\n 'academia,',\n 'it',\n 'includes',\n 'people',\n 'in',\n 'areas',\n 'from',\n 'humanities',\n 'computing',\n 'and',\n 'corpus',\n 'linguistics',\n 'through',\n 'to',\n 'computer',\n 'science',\n 'and',\n 'artificial',\n 'intelligence.',\n '(To',\n 'many',\n 'people',\n 'in',\n 'academia,',\n 'NLP',\n 'is',\n 'known',\n 'by',\n 'the',\n 'name',\n 'of',\n '\"Computational',\n 'Linguistics.\")']"
     },
     "execution_count": 8,
     "metadata": {},
     "output_type": "execute_result"
    }
   ],
   "source": [
    "words = re.split(r\" \", text)\n",
    "\n",
    "words"
   ],
   "metadata": {
    "collapsed": false,
    "pycharm": {
     "name": "#%%\n"
    }
   }
  },
  {
   "cell_type": "code",
   "execution_count": 9,
   "outputs": [
    {
     "data": {
      "text/plain": "['NLP',\n 'is',\n 'important',\n 'for',\n 'scientific',\n 'economic',\n 'social',\n 'and',\n 'cultural',\n 'reasons',\n 'NLP',\n 'is',\n 'experiencing',\n 'rapid',\n 'growth',\n 'as',\n 'its',\n 'theories',\n 'and',\n 'methods',\n 'are',\n 'deployed',\n 'in',\n 'a',\n 'variety',\n 'of',\n 'new',\n 'language',\n 'technologies',\n 'For',\n 'this',\n 'reason',\n 'it',\n 'is',\n 'important',\n 'for',\n 'a',\n 'wide',\n 'range',\n 'of',\n 'people',\n 'to',\n 'have',\n 'a',\n 'working',\n 'knowledge',\n 'of',\n 'NLP',\n 'Within',\n 'industry',\n 'this',\n 'includes',\n 'people',\n 'in',\n 'human',\n 'computer',\n 'interaction',\n 'business',\n 'information',\n 'analysis',\n 'and',\n 'web',\n 'software',\n 'development',\n 'Within',\n 'academia',\n 'it',\n 'includes',\n 'people',\n 'in',\n 'areas',\n 'from',\n 'humanities',\n 'computing',\n 'and',\n 'corpus',\n 'linguistics',\n 'through',\n 'to',\n 'computer',\n 'science',\n 'and',\n 'artificial',\n 'intelligence',\n 'To',\n 'many',\n 'people',\n 'in',\n 'academia',\n 'NLP',\n 'is',\n 'known',\n 'by',\n 'the',\n 'name',\n 'of',\n 'Computational',\n 'Linguistics',\n '']"
     },
     "execution_count": 9,
     "metadata": {},
     "output_type": "execute_result"
    }
   ],
   "source": [
    "words = re.split(r\"\\W+\", text)\n",
    "\n",
    "words"
   ],
   "metadata": {
    "collapsed": false,
    "pycharm": {
     "name": "#%%\n"
    }
   }
  },
  {
   "cell_type": "markdown",
   "source": [
    "### Word Tokenisation using NLTK Function"
   ],
   "metadata": {
    "collapsed": false
   }
  },
  {
   "cell_type": "code",
   "execution_count": 10,
   "outputs": [
    {
     "data": {
      "text/plain": "['NLP',\n 'is',\n 'important',\n 'for',\n 'scientific',\n ',',\n 'economic',\n ',',\n 'social',\n ',',\n 'and',\n 'cultural',\n 'reasons',\n '.',\n 'NLP',\n 'is',\n 'experiencing',\n 'rapid',\n 'growth',\n 'as',\n 'its',\n 'theories',\n 'and',\n 'methods',\n 'are',\n 'deployed',\n 'in',\n 'a',\n 'variety',\n 'of',\n 'new',\n 'language',\n 'technologies',\n '.',\n 'For',\n 'this',\n 'reason',\n 'it',\n 'is',\n 'important',\n 'for',\n 'a',\n 'wide',\n 'range',\n 'of',\n 'people',\n 'to',\n 'have',\n 'a',\n 'working',\n 'knowledge',\n 'of',\n 'NLP',\n '.',\n 'Within',\n 'industry',\n ',',\n 'this',\n 'includes',\n 'people',\n 'in',\n 'human-computer',\n 'interaction',\n ',',\n 'business',\n 'information',\n 'analysis',\n ',',\n 'and',\n 'web',\n 'software',\n 'development',\n '.',\n 'Within',\n 'academia',\n ',',\n 'it',\n 'includes',\n 'people',\n 'in',\n 'areas',\n 'from',\n 'humanities',\n 'computing',\n 'and',\n 'corpus',\n 'linguistics',\n 'through',\n 'to',\n 'computer',\n 'science',\n 'and',\n 'artificial',\n 'intelligence',\n '.',\n '(',\n 'To',\n 'many',\n 'people',\n 'in',\n 'academia',\n ',',\n 'NLP',\n 'is',\n 'known',\n 'by',\n 'the',\n 'name',\n 'of',\n '``',\n 'Computational',\n 'Linguistics',\n '.',\n \"''\",\n ')']"
     },
     "execution_count": 10,
     "metadata": {},
     "output_type": "execute_result"
    }
   ],
   "source": [
    "words = nltk.word_tokenize(text)\n",
    "\n",
    "words"
   ],
   "metadata": {
    "collapsed": false,
    "pycharm": {
     "name": "#%%\n"
    }
   }
  },
  {
   "cell_type": "markdown",
   "source": [
    "### Word Tokenisation using TextBlob Function"
   ],
   "metadata": {
    "collapsed": false,
    "pycharm": {
     "name": "#%% md\n"
    }
   }
  },
  {
   "cell_type": "code",
   "execution_count": 11,
   "outputs": [
    {
     "data": {
      "text/plain": "WordList(['NLP', 'is', 'important', 'for', 'scientific', 'economic', 'social', 'and', 'cultural', 'reasons', 'NLP', 'is', 'experiencing', 'rapid', 'growth', 'as', 'its', 'theories', 'and', 'methods', 'are', 'deployed', 'in', 'a', 'variety', 'of', 'new', 'language', 'technologies', 'For', 'this', 'reason', 'it', 'is', 'important', 'for', 'a', 'wide', 'range', 'of', 'people', 'to', 'have', 'a', 'working', 'knowledge', 'of', 'NLP', 'Within', 'industry', 'this', 'includes', 'people', 'in', 'human-computer', 'interaction', 'business', 'information', 'analysis', 'and', 'web', 'software', 'development', 'Within', 'academia', 'it', 'includes', 'people', 'in', 'areas', 'from', 'humanities', 'computing', 'and', 'corpus', 'linguistics', 'through', 'to', 'computer', 'science', 'and', 'artificial', 'intelligence', 'To', 'many', 'people', 'in', 'academia', 'NLP', 'is', 'known', 'by', 'the', 'name', 'of', 'Computational', 'Linguistics'])"
     },
     "execution_count": 11,
     "metadata": {},
     "output_type": "execute_result"
    }
   ],
   "source": [
    "from textblob import TextBlob\n",
    "\n",
    "blob = TextBlob(text)\n",
    "words = blob.words\n",
    "\n",
    "words"
   ],
   "metadata": {
    "collapsed": false,
    "pycharm": {
     "name": "#%%\n"
    }
   }
  },
  {
   "cell_type": "markdown",
   "source": [
    "# Q2. Form Word Stemming"
   ],
   "metadata": {
    "collapsed": false,
    "pycharm": {
     "name": "#%% md\n"
    }
   }
  },
  {
   "cell_type": "markdown",
   "source": [
    "## 2. Demonstrate word stemming using Regular Expression, Porter Stemmer and Lancaster Stemmer and report the output. (12 marks)"
   ],
   "metadata": {
    "collapsed": false
   }
  },
  {
   "cell_type": "code",
   "execution_count": 12,
   "outputs": [],
   "source": [
    "words = nltk.word_tokenize(text)"
   ],
   "metadata": {
    "collapsed": false,
    "pycharm": {
     "name": "#%%\n"
    }
   }
  },
  {
   "cell_type": "markdown",
   "source": [
    "### Word Stemming using Basic Function"
   ],
   "metadata": {
    "collapsed": false
   }
  },
  {
   "cell_type": "code",
   "execution_count": 13,
   "outputs": [
    {
     "data": {
      "text/plain": "['NLP',\n 'i',\n 'important',\n 'for',\n 'scientific',\n ',',\n 'economic',\n ',',\n 'social',\n ',',\n 'and',\n 'cultural',\n 'reason',\n '.',\n 'NLP',\n 'i',\n 'experienc',\n 'rapid',\n 'growth',\n 'a',\n 'it',\n 'theor',\n 'and',\n 'method',\n 'are',\n 'deploy',\n 'in',\n 'a',\n 'variety',\n 'of',\n 'new',\n 'language',\n 'technolog',\n '.',\n 'For',\n 'thi',\n 'reason',\n 'it',\n 'i',\n 'important',\n 'for',\n 'a',\n 'wide',\n 'range',\n 'of',\n 'people',\n 'to',\n 'have',\n 'a',\n 'work',\n 'knowledge',\n 'of',\n 'NLP',\n '.',\n 'Within',\n 'industry',\n ',',\n 'thi',\n 'includ',\n 'people',\n 'in',\n 'human-computer',\n 'interaction',\n ',',\n 'busines',\n 'information',\n 'analysi',\n ',',\n 'and',\n 'web',\n 'software',\n 'develop',\n '.',\n 'Within',\n 'academia',\n ',',\n 'it',\n 'includ',\n 'people',\n 'in',\n 'area',\n 'from',\n 'humanit',\n 'comput',\n 'and',\n 'corpu',\n 'linguistic',\n 'through',\n 'to',\n 'computer',\n 'science',\n 'and',\n 'artificial',\n 'intelligence',\n '.',\n '(',\n 'To',\n 'many',\n 'people',\n 'in',\n 'academia',\n ',',\n 'NLP',\n 'i',\n 'known',\n 'by',\n 'the',\n 'name',\n 'of',\n '``',\n 'Computational',\n 'Linguistic',\n '.',\n \"''\",\n ')']"
     },
     "execution_count": 13,
     "metadata": {},
     "output_type": "execute_result"
    }
   ],
   "source": [
    "suffixes = [\"ing\", \"ly\", \"ed\", \"ious\", \"ies\", \"ive\", \"es\", \"s\", \"ment\"]\n",
    "\n",
    "def stem(word):\n",
    "    for suffix in suffixes:\n",
    "        if word.endswith(suffix):\n",
    "            return word[:-len(suffix)]\n",
    "    return word\n",
    "\n",
    "stemmed_words = [stem(word)for word in words]\n",
    "\n",
    "stemmed_words"
   ],
   "metadata": {
    "collapsed": false,
    "pycharm": {
     "name": "#%%\n"
    }
   }
  },
  {
   "cell_type": "markdown",
   "source": [
    "### Word Stemming using Regular Expression Function"
   ],
   "metadata": {
    "collapsed": false
   }
  },
  {
   "cell_type": "code",
   "execution_count": 14,
   "outputs": [
    {
     "data": {
      "text/plain": "['NLP',\n 'i',\n 'important',\n 'for',\n 'scientific',\n ',',\n 'economic',\n ',',\n 'social',\n ',',\n 'and',\n 'cultural',\n 'reason',\n '.',\n 'NLP',\n 'i',\n 'experienc',\n 'rapid',\n 'growth',\n 'a',\n 'it',\n 'theor',\n 'and',\n 'method',\n 'are',\n 'deploy',\n 'in',\n 'a',\n 'variety',\n 'of',\n 'new',\n 'language',\n 'technolog',\n '.',\n 'For',\n 'thi',\n 'reason',\n 'it',\n 'i',\n 'important',\n 'for',\n 'a',\n 'wide',\n 'range',\n 'of',\n 'people',\n 'to',\n 'have',\n 'a',\n 'work',\n 'knowledge',\n 'of',\n 'NLP',\n '.',\n 'Within',\n 'industry',\n ',',\n 'thi',\n 'includ',\n 'people',\n 'in',\n 'human-computer',\n 'interaction',\n ',',\n 'busines',\n 'information',\n 'analysi',\n ',',\n 'and',\n 'web',\n 'software',\n 'develop',\n '.',\n 'Within',\n 'academia',\n ',',\n 'it',\n 'includ',\n 'people',\n 'in',\n 'area',\n 'from',\n 'humanit',\n 'comput',\n 'and',\n 'corpu',\n 'linguistic',\n 'through',\n 'to',\n 'computer',\n 'science',\n 'and',\n 'artificial',\n 'intelligence',\n '.',\n '(',\n 'To',\n 'many',\n 'people',\n 'in',\n 'academia',\n ',',\n 'NLP',\n 'i',\n 'known',\n 'by',\n 'the',\n 'name',\n 'of',\n '``',\n 'Computational',\n 'Linguistic',\n '.',\n \"''\",\n ')']"
     },
     "execution_count": 14,
     "metadata": {},
     "output_type": "execute_result"
    }
   ],
   "source": [
    "split_stem_pattern = r\"^(.*?)(ing|ly|ed|ious|ies|ive|es|s|ment)?$\"\n",
    "stemmed_words = [\n",
    "    re.findall(split_stem_pattern, word)[0][0]\n",
    "    for word in words\n",
    "]\n",
    "\n",
    "stemmed_words"
   ],
   "metadata": {
    "collapsed": false,
    "pycharm": {
     "name": "#%%\n"
    }
   }
  },
  {
   "cell_type": "markdown",
   "source": [
    "### Word Stemming using Porter Stemmer Function"
   ],
   "metadata": {
    "collapsed": false
   }
  },
  {
   "cell_type": "code",
   "execution_count": 15,
   "outputs": [
    {
     "data": {
      "text/plain": "['nlp',\n 'is',\n 'import',\n 'for',\n 'scientif',\n ',',\n 'econom',\n ',',\n 'social',\n ',',\n 'and',\n 'cultur',\n 'reason',\n '.',\n 'nlp',\n 'is',\n 'experienc',\n 'rapid',\n 'growth',\n 'as',\n 'it',\n 'theori',\n 'and',\n 'method',\n 'are',\n 'deploy',\n 'in',\n 'a',\n 'varieti',\n 'of',\n 'new',\n 'languag',\n 'technolog',\n '.',\n 'for',\n 'thi',\n 'reason',\n 'it',\n 'is',\n 'import',\n 'for',\n 'a',\n 'wide',\n 'rang',\n 'of',\n 'peopl',\n 'to',\n 'have',\n 'a',\n 'work',\n 'knowledg',\n 'of',\n 'nlp',\n '.',\n 'within',\n 'industri',\n ',',\n 'thi',\n 'includ',\n 'peopl',\n 'in',\n 'human-comput',\n 'interact',\n ',',\n 'busi',\n 'inform',\n 'analysi',\n ',',\n 'and',\n 'web',\n 'softwar',\n 'develop',\n '.',\n 'within',\n 'academia',\n ',',\n 'it',\n 'includ',\n 'peopl',\n 'in',\n 'area',\n 'from',\n 'human',\n 'comput',\n 'and',\n 'corpu',\n 'linguist',\n 'through',\n 'to',\n 'comput',\n 'scienc',\n 'and',\n 'artifici',\n 'intellig',\n '.',\n '(',\n 'to',\n 'mani',\n 'peopl',\n 'in',\n 'academia',\n ',',\n 'nlp',\n 'is',\n 'known',\n 'by',\n 'the',\n 'name',\n 'of',\n '``',\n 'comput',\n 'linguist',\n '.',\n \"''\",\n ')']"
     },
     "execution_count": 15,
     "metadata": {},
     "output_type": "execute_result"
    }
   ],
   "source": [
    "lancaster_stemmer = nltk.PorterStemmer()\n",
    "stemmed_words = [\n",
    "    lancaster_stemmer.stem(word) for word in words\n",
    "]\n",
    "\n",
    "stemmed_words"
   ],
   "metadata": {
    "collapsed": false,
    "pycharm": {
     "name": "#%%\n"
    }
   }
  },
  {
   "cell_type": "markdown",
   "source": [
    "### Word Stemming using Lancaster Stemmer Function"
   ],
   "metadata": {
    "collapsed": false
   }
  },
  {
   "cell_type": "code",
   "execution_count": 16,
   "outputs": [
    {
     "data": {
      "text/plain": "['nlp',\n 'is',\n 'import',\n 'for',\n 'sci',\n ',',\n 'econom',\n ',',\n 'soc',\n ',',\n 'and',\n 'cult',\n 'reason',\n '.',\n 'nlp',\n 'is',\n 'expery',\n 'rapid',\n 'grow',\n 'as',\n 'it',\n 'the',\n 'and',\n 'method',\n 'ar',\n 'deploy',\n 'in',\n 'a',\n 'vary',\n 'of',\n 'new',\n 'langu',\n 'technolog',\n '.',\n 'for',\n 'thi',\n 'reason',\n 'it',\n 'is',\n 'import',\n 'for',\n 'a',\n 'wid',\n 'rang',\n 'of',\n 'peopl',\n 'to',\n 'hav',\n 'a',\n 'work',\n 'knowledg',\n 'of',\n 'nlp',\n '.',\n 'within',\n 'industry',\n ',',\n 'thi',\n 'includ',\n 'peopl',\n 'in',\n 'human-computer',\n 'interact',\n ',',\n 'busy',\n 'inform',\n 'analys',\n ',',\n 'and',\n 'web',\n 'softw',\n 'develop',\n '.',\n 'within',\n 'academ',\n ',',\n 'it',\n 'includ',\n 'peopl',\n 'in',\n 'area',\n 'from',\n 'hum',\n 'comput',\n 'and',\n 'corp',\n 'lingu',\n 'through',\n 'to',\n 'comput',\n 'sci',\n 'and',\n 'art',\n 'intellig',\n '.',\n '(',\n 'to',\n 'many',\n 'peopl',\n 'in',\n 'academ',\n ',',\n 'nlp',\n 'is',\n 'known',\n 'by',\n 'the',\n 'nam',\n 'of',\n '``',\n 'comput',\n 'lingu',\n '.',\n \"''\",\n ')']"
     },
     "execution_count": 16,
     "metadata": {},
     "output_type": "execute_result"
    }
   ],
   "source": [
    "lancaster_stemmer = nltk.LancasterStemmer()\n",
    "stemmed_words = [\n",
    "    lancaster_stemmer.stem(word) for word in words\n",
    "]\n",
    "\n",
    "stemmed_words"
   ],
   "metadata": {
    "collapsed": false,
    "pycharm": {
     "name": "#%%\n"
    }
   }
  },
  {
   "cell_type": "markdown",
   "source": [
    "### Word Stemming using Snowball Stemmer Function"
   ],
   "metadata": {
    "collapsed": false
   }
  },
  {
   "cell_type": "code",
   "execution_count": 17,
   "outputs": [
    {
     "data": {
      "text/plain": "['nlp',\n 'is',\n 'import',\n 'for',\n 'scientif',\n ',',\n 'econom',\n ',',\n 'social',\n ',',\n 'and',\n 'cultur',\n 'reason',\n '.',\n 'nlp',\n 'is',\n 'experienc',\n 'rapid',\n 'growth',\n 'as',\n 'it',\n 'theori',\n 'and',\n 'method',\n 'are',\n 'deploy',\n 'in',\n 'a',\n 'varieti',\n 'of',\n 'new',\n 'languag',\n 'technolog',\n '.',\n 'for',\n 'this',\n 'reason',\n 'it',\n 'is',\n 'import',\n 'for',\n 'a',\n 'wide',\n 'rang',\n 'of',\n 'peopl',\n 'to',\n 'have',\n 'a',\n 'work',\n 'knowledg',\n 'of',\n 'nlp',\n '.',\n 'within',\n 'industri',\n ',',\n 'this',\n 'includ',\n 'peopl',\n 'in',\n 'human-comput',\n 'interact',\n ',',\n 'busi',\n 'inform',\n 'analysi',\n ',',\n 'and',\n 'web',\n 'softwar',\n 'develop',\n '.',\n 'within',\n 'academia',\n ',',\n 'it',\n 'includ',\n 'peopl',\n 'in',\n 'area',\n 'from',\n 'human',\n 'comput',\n 'and',\n 'corpus',\n 'linguist',\n 'through',\n 'to',\n 'comput',\n 'scienc',\n 'and',\n 'artifici',\n 'intellig',\n '.',\n '(',\n 'to',\n 'mani',\n 'peopl',\n 'in',\n 'academia',\n ',',\n 'nlp',\n 'is',\n 'known',\n 'by',\n 'the',\n 'name',\n 'of',\n '``',\n 'comput',\n 'linguist',\n '.',\n \"''\",\n ')']"
     },
     "execution_count": 17,
     "metadata": {},
     "output_type": "execute_result"
    }
   ],
   "source": [
    "snowball_stemmer = nltk.SnowballStemmer(language=\"english\")\n",
    "stemmed_words = [\n",
    "    snowball_stemmer.stem(word) for word in words\n",
    "]\n",
    "\n",
    "stemmed_words"
   ],
   "metadata": {
    "collapsed": false,
    "pycharm": {
     "name": "#%%\n"
    }
   }
  },
  {
   "cell_type": "markdown",
   "source": [
    "# Q3. Filter Stop Words and Punctuation"
   ],
   "metadata": {
    "collapsed": false
   }
  },
  {
   "cell_type": "markdown",
   "source": [
    "## 1. Demonstrate stop words and punctuations removal from the given text corpus and report the output suitably. (12 marks)"
   ],
   "metadata": {
    "collapsed": false
   }
  },
  {
   "cell_type": "markdown",
   "source": [
    "### Words before Filtering"
   ],
   "metadata": {
    "collapsed": false
   }
  },
  {
   "cell_type": "code",
   "execution_count": 18,
   "outputs": [
    {
     "data": {
      "text/plain": "['NLP',\n 'is',\n 'important',\n 'for',\n 'scientific',\n ',',\n 'economic',\n ',',\n 'social',\n ',',\n 'and',\n 'cultural',\n 'reasons',\n '.',\n 'NLP',\n 'is',\n 'experiencing',\n 'rapid',\n 'growth',\n 'as',\n 'its',\n 'theories',\n 'and',\n 'methods',\n 'are',\n 'deployed',\n 'in',\n 'a',\n 'variety',\n 'of',\n 'new',\n 'language',\n 'technologies',\n '.',\n 'For',\n 'this',\n 'reason',\n 'it',\n 'is',\n 'important',\n 'for',\n 'a',\n 'wide',\n 'range',\n 'of',\n 'people',\n 'to',\n 'have',\n 'a',\n 'working',\n 'knowledge',\n 'of',\n 'NLP',\n '.',\n 'Within',\n 'industry',\n ',',\n 'this',\n 'includes',\n 'people',\n 'in',\n 'human-computer',\n 'interaction',\n ',',\n 'business',\n 'information',\n 'analysis',\n ',',\n 'and',\n 'web',\n 'software',\n 'development',\n '.',\n 'Within',\n 'academia',\n ',',\n 'it',\n 'includes',\n 'people',\n 'in',\n 'areas',\n 'from',\n 'humanities',\n 'computing',\n 'and',\n 'corpus',\n 'linguistics',\n 'through',\n 'to',\n 'computer',\n 'science',\n 'and',\n 'artificial',\n 'intelligence',\n '.',\n '(',\n 'To',\n 'many',\n 'people',\n 'in',\n 'academia',\n ',',\n 'NLP',\n 'is',\n 'known',\n 'by',\n 'the',\n 'name',\n 'of',\n '``',\n 'Computational',\n 'Linguistics',\n '.',\n \"''\",\n ')']"
     },
     "execution_count": 18,
     "metadata": {},
     "output_type": "execute_result"
    }
   ],
   "source": [
    "words = nltk.word_tokenize(text)\n",
    "\n",
    "words"
   ],
   "metadata": {
    "collapsed": false,
    "pycharm": {
     "name": "#%%\n"
    }
   }
  },
  {
   "cell_type": "markdown",
   "source": [
    "### Words after Filtering"
   ],
   "metadata": {
    "collapsed": false
   }
  },
  {
   "cell_type": "code",
   "execution_count": 19,
   "outputs": [
    {
     "data": {
      "text/plain": "['NLP',\n 'important',\n 'scientific',\n 'economic',\n 'social',\n 'cultural',\n 'reasons',\n 'NLP',\n 'experiencing',\n 'rapid',\n 'growth',\n 'theories',\n 'methods',\n 'deployed',\n 'variety',\n 'new',\n 'language',\n 'technologies',\n 'For',\n 'reason',\n 'important',\n 'wide',\n 'range',\n 'people',\n 'working',\n 'knowledge',\n 'NLP',\n 'Within',\n 'industry',\n 'includes',\n 'people',\n 'human-computer',\n 'interaction',\n 'business',\n 'information',\n 'analysis',\n 'web',\n 'software',\n 'development',\n 'Within',\n 'academia',\n 'includes',\n 'people',\n 'areas',\n 'humanities',\n 'computing',\n 'corpus',\n 'linguistics',\n 'computer',\n 'science',\n 'artificial',\n 'intelligence',\n 'To',\n 'many',\n 'people',\n 'academia',\n 'NLP',\n 'known',\n 'name',\n 'Computational',\n 'Linguistics']"
     },
     "execution_count": 19,
     "metadata": {},
     "output_type": "execute_result"
    }
   ],
   "source": [
    "import string\n",
    "\n",
    "stop_words = nltk.corpus.stopwords.words('english')\n",
    "punctuations = list(string.punctuation) + [\"``\", \"''\"]\n",
    "\n",
    "filtered_words = [\n",
    "    word\n",
    "    for word in words\n",
    "    if word not in stop_words and word not in punctuations\n",
    "]\n",
    "\n",
    "filtered_words"
   ],
   "metadata": {
    "collapsed": false,
    "pycharm": {
     "name": "#%%\n"
    }
   }
  },
  {
   "cell_type": "markdown",
   "source": [
    "### Stop Words Found"
   ],
   "metadata": {
    "collapsed": false
   }
  },
  {
   "cell_type": "code",
   "execution_count": 20,
   "outputs": [
    {
     "data": {
      "text/plain": "['it',\n 'its',\n 'this',\n 'is',\n 'are',\n 'have',\n 'a',\n 'the',\n 'and',\n 'as',\n 'of',\n 'by',\n 'for',\n 'through',\n 'to',\n 'from',\n 'in']"
     },
     "execution_count": 20,
     "metadata": {},
     "output_type": "execute_result"
    }
   ],
   "source": [
    "stop_words_found = [\n",
    "    word\n",
    "    for word in stop_words\n",
    "    if word in words\n",
    "]\n",
    "\n",
    "stop_words_found"
   ],
   "metadata": {
    "collapsed": false,
    "pycharm": {
     "name": "#%%\n"
    }
   }
  },
  {
   "cell_type": "markdown",
   "source": [
    "# Q4. Form Parts of Speech (POS) Taggers & Syntactic Analysers"
   ],
   "metadata": {
    "collapsed": false
   }
  },
  {
   "cell_type": "markdown",
   "source": [
    "### Open, Read and Close Data_2 Textfile"
   ],
   "metadata": {
    "collapsed": false,
    "pycharm": {
     "name": "#%% md\n"
    }
   }
  },
  {
   "cell_type": "code",
   "execution_count": 1,
   "outputs": [
    {
     "data": {
      "text/plain": "'The little black dog barked at the white cat and chased away.'"
     },
     "execution_count": 1,
     "metadata": {},
     "output_type": "execute_result"
    }
   ],
   "source": [
    "data_file2 = \"data/Data_2.txt\"\n",
    "with open(file=data_file2) as f:\n",
    "    text2 = f.read()\n",
    "\n",
    "text2"
   ],
   "metadata": {
    "collapsed": false,
    "pycharm": {
     "name": "#%%\n"
    }
   }
  },
  {
   "cell_type": "markdown",
   "source": [
    "## 1. Demonstrate POS tagging using NLTK POS tagger, textblob POS tagger and the Regular Expression tagger and report the output. (9 marks)"
   ],
   "metadata": {
    "collapsed": false
   }
  },
  {
   "cell_type": "code",
   "execution_count": 23,
   "outputs": [
    {
     "data": {
      "text/plain": "['the',\n 'little',\n 'black',\n 'dog',\n 'barked',\n 'at',\n 'the',\n 'white',\n 'cat',\n 'and',\n 'chased',\n 'away']"
     },
     "execution_count": 23,
     "metadata": {},
     "output_type": "execute_result"
    }
   ],
   "source": [
    "punctuations = string.punctuation\n",
    "words = [\n",
    "    word.lower()\n",
    "    for word in nltk.word_tokenize(text2)\n",
    "    if word not in punctuations\n",
    "]\n",
    "\n",
    "words"
   ],
   "metadata": {
    "collapsed": false,
    "pycharm": {
     "name": "#%%\n"
    }
   }
  },
  {
   "cell_type": "markdown",
   "source": [
    "### POS Tagging using NLTK POS Tagger"
   ],
   "metadata": {
    "collapsed": false
   }
  },
  {
   "cell_type": "code",
   "execution_count": 25,
   "outputs": [
    {
     "data": {
      "text/plain": "[('the', 'DT'),\n ('little', 'JJ'),\n ('black', 'JJ'),\n ('dog', 'NN'),\n ('barked', 'VBD'),\n ('at', 'IN'),\n ('the', 'DT'),\n ('white', 'JJ'),\n ('cat', 'NN'),\n ('and', 'CC'),\n ('chased', 'VBD'),\n ('away', 'RB')]"
     },
     "execution_count": 25,
     "metadata": {},
     "output_type": "execute_result"
    }
   ],
   "source": [
    "tagged_tokens = nltk.pos_tag(words)\n",
    "\n",
    "tagged_tokens"
   ],
   "metadata": {
    "collapsed": false,
    "pycharm": {
     "name": "#%%\n"
    }
   }
  },
  {
   "cell_type": "markdown",
   "source": [
    "### POS Tagging using TextBlob POS Tagger"
   ],
   "metadata": {
    "collapsed": false
   }
  },
  {
   "cell_type": "code",
   "execution_count": 27,
   "outputs": [
    {
     "data": {
      "text/plain": "[('the', 'DT'),\n ('little', 'JJ'),\n ('black', 'JJ'),\n ('dog', 'NN'),\n ('barked', 'VBD'),\n ('at', 'IN'),\n ('the', 'DT'),\n ('white', 'JJ'),\n ('cat', 'NN'),\n ('and', 'CC'),\n ('chased', 'VBD'),\n ('away', 'RB')]"
     },
     "execution_count": 27,
     "metadata": {},
     "output_type": "execute_result"
    }
   ],
   "source": [
    "blob = TextBlob(text2.lower())\n",
    "tagged_tokens = blob.tags\n",
    "\n",
    "tagged_tokens"
   ],
   "metadata": {
    "collapsed": false,
    "pycharm": {
     "name": "#%%\n"
    }
   }
  },
  {
   "cell_type": "markdown",
   "source": [
    "### POS Tagging using Regular Expression Tagger"
   ],
   "metadata": {
    "collapsed": false
   }
  },
  {
   "cell_type": "code",
   "execution_count": 29,
   "outputs": [
    {
     "data": {
      "text/plain": "[('the', 'NN'),\n ('little', 'NN'),\n ('black', 'NN'),\n ('dog', 'NN'),\n ('barked', 'VBD'),\n ('at', 'NN'),\n ('the', 'NN'),\n ('white', 'NN'),\n ('cat', 'NN'),\n ('and', 'NN'),\n ('chased', 'VBD'),\n ('away', 'NN')]"
     },
     "execution_count": 29,
     "metadata": {},
     "output_type": "execute_result"
    }
   ],
   "source": [
    "patterns = [\n",
    "    (r'.*ing$', 'VBG'),     # gerunds\n",
    "    (r'.*ed$', 'VBD'),      # simple past\n",
    "    (r'.*es$', 'VBZ'),      # 3rd singular present\n",
    "    (r'.*ould$', 'MD'),     # modals\n",
    "    (r'.*\\'s$', 'NN$'),     # possessive nouns\n",
    "    (r'.*s$', 'NNS'),       # plural nouns\n",
    "    (r'^-?[0-9]+(.[0-9]+)?$', 'CD'),  # cardinal numbers\n",
    "    (r'.*', 'NN'),          # nouns (default)\n",
    "    (r'^\\d+$', 'CD'),\n",
    "    (r'.*ing$', 'VBG'),     # gerunds, i.e. wondering\n",
    "    (r'.*ment$', 'NN'),     # i.e. wonderment\n",
    "    (r'.*ful$', 'JJ')       # i.e. wonderful\n",
    "]\n",
    "regexp_tagger = nltk.RegexpTagger(patterns)\n",
    "tagged_tokens = regexp_tagger.tag(words)\n",
    "\n",
    "tagged_tokens"
   ],
   "metadata": {
    "collapsed": false,
    "pycharm": {
     "name": "#%%\n"
    }
   }
  },
  {
   "cell_type": "markdown",
   "source": [
    "## 4. Draw possible parse trees for the given sentences using suitable python codes and report the Parse Trees along with the Python code. (5 marks)"
   ],
   "metadata": {
    "collapsed": false
   }
  },
  {
   "cell_type": "code",
   "execution_count": 56,
   "outputs": [
    {
     "name": "stdout",
     "output_type": "stream",
     "text": [
      "(S\n",
      "  (NP (DT the) (NP (Nom (Adj little) (Nom (Adj black) (N dog)))))\n",
      "  (VP\n",
      "    (VP\n",
      "      (VP\n",
      "        (VP (V barked))\n",
      "        (PP (P at) (NP (DT the) (NP (Nom (Adj white) (N cat))))))\n",
      "      (CC and)\n",
      "      (VP (V chased)))\n",
      "    (Adv away)))\n",
      "(S\n",
      "  (NP (DT the) (NP (Nom (Adj little) (Nom (Adj black) (N dog)))))\n",
      "  (VP\n",
      "    (VP\n",
      "      (VP (V barked))\n",
      "      (PP (P at) (NP (DT the) (NP (Nom (Adj white) (N cat))))))\n",
      "    (CC and)\n",
      "    (VP (VP (V chased)) (Adv away))))\n"
     ]
    }
   ],
   "source": [
    "inputs = [\n",
    "    \"S -> S CC S | NP VP\",\n",
    "    \"VP -> VP CC VP | VP NP | VP Adv | VP PP | V\",\n",
    "    \"NP -> NP CC NP | NP PP | DT NP | Nom | N\",\n",
    "    \"PP -> P NP\",\n",
    "    \"Nom -> Adj Nom | Adj N\",\n",
    "    \"N -> N CC N | 'dog' | 'cat'\",\n",
    "    \"V -> 'barked' | 'chased'\",\n",
    "    \"Adj -> 'little' | 'black' | 'white'\",\n",
    "    \"P -> 'at'\",\n",
    "    \"CC -> 'and'\",\n",
    "    \"Adv -> 'away'\",\n",
    "    \"DT -> 'the'\",\n",
    "]\n",
    "grammar = nltk.CFG.fromstring(inputs)\n",
    "\n",
    "chart_parser = nltk.ChartParser(grammar=grammar)\n",
    "trees = chart_parser.parse(words)\n",
    "for tree in trees:\n",
    "    tree.draw()\n",
    "    print(tree)"
   ],
   "metadata": {
    "collapsed": false,
    "pycharm": {
     "name": "#%%\n"
    }
   }
  },
  {
   "cell_type": "markdown",
   "source": [
    "# !!! Important !!!"
   ],
   "metadata": {
    "collapsed": false
   }
  },
  {
   "cell_type": "code",
   "execution_count": 26,
   "outputs": [
    {
     "name": "stdout",
     "output_type": "stream",
     "text": [
      "['I am a pig.', 'I lup duck.', 'And, I miss duck']\n"
     ]
    }
   ],
   "source": [
    "import nltk\n",
    "tokens = nltk.tokenize.sent_tokenize(\"I am a pig. I lup duck. And, I miss duck\")\n",
    "print(tokens)"
   ],
   "metadata": {
    "collapsed": false,
    "pycharm": {
     "name": "#%%\n"
    }
   }
  }
 ],
 "metadata": {
  "kernelspec": {
   "display_name": "Python 3",
   "language": "python",
   "name": "python3"
  },
  "language_info": {
   "codemirror_mode": {
    "name": "ipython",
    "version": 2
   },
   "file_extension": ".py",
   "mimetype": "text/x-python",
   "name": "python",
   "nbconvert_exporter": "python",
   "pygments_lexer": "ipython2",
   "version": "2.7.6"
  }
 },
 "nbformat": 4,
 "nbformat_minor": 0
}