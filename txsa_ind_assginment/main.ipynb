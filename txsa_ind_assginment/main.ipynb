{
 "cells": [
  {
   "cell_type": "markdown",
   "source": [
    "### Switch Off Pretty Printing of Output"
   ],
   "metadata": {
    "collapsed": false
   }
  },
  {
   "cell_type": "code",
   "execution_count": 1,
   "outputs": [
    {
     "name": "stdout",
     "output_type": "stream",
     "text": [
      "Pretty printing has been turned OFF\n"
     ]
    }
   ],
   "source": [
    "%pprint"
   ],
   "metadata": {
    "collapsed": false,
    "pycharm": {
     "name": "#%%\n"
    }
   }
  },
  {
   "cell_type": "markdown",
   "source": [
    "### Open, Read and Close Data_1 Textfile"
   ],
   "metadata": {
    "collapsed": false,
    "pycharm": {
     "name": "#%% md\n"
    }
   }
  },
  {
   "cell_type": "code",
   "execution_count": 2,
   "outputs": [
    {
     "name": "stdout",
     "output_type": "stream",
     "text": [
      "Pretty printing has been turned ON\n"
     ]
    },
    {
     "data": {
      "text/plain": "'NLP is important for scientific, economic, social, and cultural reasons. NLP is experiencing rapid growth as its theories and methods are deployed in a variety of new language technologies. For this reason it is important for a wide range of people to have a working knowledge of NLP. Within industry, this includes people in human-computer interaction, business information analysis, and web software development. Within academia, it includes people in areas from humanities computing and corpus linguistics through to computer science and artificial intelligence. (To many people in academia, NLP is known by the name of \"Computational Linguistics.\")'"
     },
     "execution_count": 2,
     "metadata": {},
     "output_type": "execute_result"
    }
   ],
   "source": [
    "data_file1 = \"data/Data_1.txt\"\n",
    "with open(file=data_file1) as f:\n",
    "    text = f.read()\n",
    "\n",
    "text"
   ],
   "metadata": {
    "collapsed": false,
    "pycharm": {
     "name": "#%%\n"
    }
   }
  },
  {
   "cell_type": "markdown",
   "source": [
    "# Q1. Form Tokenisation"
   ],
   "metadata": {
    "collapsed": false
   }
  },
  {
   "cell_type": "markdown",
   "source": [
    "## 1. Demonstrate sentence segmentation and report the output. (6 marks)"
   ],
   "metadata": {
    "collapsed": false,
    "pycharm": {
     "name": "#%% md\n"
    }
   }
  },
  {
   "cell_type": "markdown",
   "source": [
    "### Sentence Segmentation using Split Function"
   ],
   "metadata": {
    "collapsed": false,
    "pycharm": {
     "name": "#%% md\n"
    }
   }
  },
  {
   "cell_type": "code",
   "execution_count": 3,
   "outputs": [
    {
     "data": {
      "text/plain": "['NLP is important for scientific, economic, social, and cultural reasons',\n 'NLP is experiencing rapid growth as its theories and methods are deployed in a variety of new language technologies',\n 'For this reason it is important for a wide range of people to have a working knowledge of NLP',\n 'Within industry, this includes people in human-computer interaction, business information analysis, and web software development',\n 'Within academia, it includes people in areas from humanities computing and corpus linguistics through to computer science and artificial intelligence',\n '(To many people in academia, NLP is known by the name of \"Computational Linguistics.\")']"
     },
     "execution_count": 3,
     "metadata": {},
     "output_type": "execute_result"
    }
   ],
   "source": [
    "sentences = text.split(\". \")\n",
    "\n",
    "sentences"
   ],
   "metadata": {
    "collapsed": false,
    "pycharm": {
     "name": "#%%\n"
    }
   }
  },
  {
   "cell_type": "markdown",
   "source": [
    "### Sentence Segmentation using Regular Expression Function"
   ],
   "metadata": {
    "collapsed": false,
    "pycharm": {
     "name": "#%% md\n"
    }
   }
  },
  {
   "cell_type": "code",
   "execution_count": 4,
   "outputs": [
    {
     "data": {
      "text/plain": "['NLP is important for scientific, economic, social, and cultural reasons',\n 'NLP is experiencing rapid growth as its theories and methods are deployed in a variety of new language technologies',\n 'For this reason it is important for a wide range of people to have a working knowledge of NLP',\n 'Within industry, this includes people in human-computer interaction, business information analysis, and web software development',\n 'Within academia, it includes people in areas from humanities computing and corpus linguistics through to computer science and artificial intelligence',\n '(To many people in academia, NLP is known by the name of \"Computational Linguistics.\")']"
     },
     "execution_count": 4,
     "metadata": {},
     "output_type": "execute_result"
    }
   ],
   "source": [
    "import re\n",
    "\n",
    "sentences = re.split(r\"[.!?] \", text)\n",
    "\n",
    "sentences"
   ],
   "metadata": {
    "collapsed": false,
    "pycharm": {
     "name": "#%%\n"
    }
   }
  },
  {
   "cell_type": "markdown",
   "source": [
    "### Sentence Segmentation using NLTK Function"
   ],
   "metadata": {
    "collapsed": false,
    "pycharm": {
     "name": "#%% md\n"
    }
   }
  },
  {
   "cell_type": "code",
   "execution_count": 5,
   "outputs": [
    {
     "data": {
      "text/plain": "['NLP is important for scientific, economic, social, and cultural reasons.',\n 'NLP is experiencing rapid growth as its theories and methods are deployed in a variety of new language technologies.',\n 'For this reason it is important for a wide range of people to have a working knowledge of NLP.',\n 'Within industry, this includes people in human-computer interaction, business information analysis, and web software development.',\n 'Within academia, it includes people in areas from humanities computing and corpus linguistics through to computer science and artificial intelligence.',\n '(To many people in academia, NLP is known by the name of \"Computational Linguistics.\")']"
     },
     "execution_count": 5,
     "metadata": {},
     "output_type": "execute_result"
    }
   ],
   "source": [
    "import nltk\n",
    "\n",
    "sentences = nltk.sent_tokenize(text)\n",
    "\n",
    "sentences"
   ],
   "metadata": {
    "collapsed": false,
    "pycharm": {
     "name": "#%%\n"
    }
   }
  },
  {
   "cell_type": "markdown",
   "source": [
    "## 2. Demonstrate word tokenisation using the split function, Regular Expression and NLTK packages separately and report the output. (10 marks)"
   ],
   "metadata": {
    "collapsed": false,
    "pycharm": {
     "name": "#%% md\n"
    }
   }
  },
  {
   "cell_type": "markdown",
   "source": [
    "### Word Tokenisation using Split Function"
   ],
   "metadata": {
    "collapsed": false,
    "pycharm": {
     "name": "#%% md\n"
    }
   }
  },
  {
   "cell_type": "code",
   "execution_count": 6,
   "outputs": [
    {
     "data": {
      "text/plain": "['NLP',\n 'is',\n 'important',\n 'for',\n 'scientific,',\n 'economic,',\n 'social,',\n 'and',\n 'cultural',\n 'reasons.',\n 'NLP',\n 'is',\n 'experiencing',\n 'rapid',\n 'growth',\n 'as',\n 'its',\n 'theories',\n 'and',\n 'methods',\n 'are',\n 'deployed',\n 'in',\n 'a',\n 'variety',\n 'of',\n 'new',\n 'language',\n 'technologies.',\n 'For',\n 'this',\n 'reason',\n 'it',\n 'is',\n 'important',\n 'for',\n 'a',\n 'wide',\n 'range',\n 'of',\n 'people',\n 'to',\n 'have',\n 'a',\n 'working',\n 'knowledge',\n 'of',\n 'NLP.',\n 'Within',\n 'industry,',\n 'this',\n 'includes',\n 'people',\n 'in',\n 'human-computer',\n 'interaction,',\n 'business',\n 'information',\n 'analysis,',\n 'and',\n 'web',\n 'software',\n 'development.',\n 'Within',\n 'academia,',\n 'it',\n 'includes',\n 'people',\n 'in',\n 'areas',\n 'from',\n 'humanities',\n 'computing',\n 'and',\n 'corpus',\n 'linguistics',\n 'through',\n 'to',\n 'computer',\n 'science',\n 'and',\n 'artificial',\n 'intelligence.',\n '(To',\n 'many',\n 'people',\n 'in',\n 'academia,',\n 'NLP',\n 'is',\n 'known',\n 'by',\n 'the',\n 'name',\n 'of',\n '\"Computational',\n 'Linguistics.\")']"
     },
     "execution_count": 6,
     "metadata": {},
     "output_type": "execute_result"
    }
   ],
   "source": [
    "words = text.split()\n",
    "\n",
    "words"
   ],
   "metadata": {
    "collapsed": false,
    "pycharm": {
     "name": "#%%\n"
    }
   }
  },
  {
   "cell_type": "markdown",
   "source": [
    "### Word Tokenisation using Regular Expression Function"
   ],
   "metadata": {
    "collapsed": false
   }
  },
  {
   "cell_type": "code",
   "execution_count": 7,
   "outputs": [
    {
     "data": {
      "text/plain": "['NLP',\n 'is',\n 'important',\n 'for',\n 'scientific,',\n 'economic,',\n 'social,',\n 'and',\n 'cultural',\n 'reasons.',\n 'NLP',\n 'is',\n 'experiencing',\n 'rapid',\n 'growth',\n 'as',\n 'its',\n 'theories',\n 'and',\n 'methods',\n 'are',\n 'deployed',\n 'in',\n 'a',\n 'variety',\n 'of',\n 'new',\n 'language',\n 'technologies.',\n 'For',\n 'this',\n 'reason',\n 'it',\n 'is',\n 'important',\n 'for',\n 'a',\n 'wide',\n 'range',\n 'of',\n 'people',\n 'to',\n 'have',\n 'a',\n 'working',\n 'knowledge',\n 'of',\n 'NLP.',\n 'Within',\n 'industry,',\n 'this',\n 'includes',\n 'people',\n 'in',\n 'human-computer',\n 'interaction,',\n 'business',\n 'information',\n 'analysis,',\n 'and',\n 'web',\n 'software',\n 'development.',\n 'Within',\n 'academia,',\n 'it',\n 'includes',\n 'people',\n 'in',\n 'areas',\n 'from',\n 'humanities',\n 'computing',\n 'and',\n 'corpus',\n 'linguistics',\n 'through',\n 'to',\n 'computer',\n 'science',\n 'and',\n 'artificial',\n 'intelligence.',\n '(To',\n 'many',\n 'people',\n 'in',\n 'academia,',\n 'NLP',\n 'is',\n 'known',\n 'by',\n 'the',\n 'name',\n 'of',\n '\"Computational',\n 'Linguistics.\")']"
     },
     "execution_count": 7,
     "metadata": {},
     "output_type": "execute_result"
    }
   ],
   "source": [
    "words = re.split(r\" \", text)\n",
    "\n",
    "words"
   ],
   "metadata": {
    "collapsed": false,
    "pycharm": {
     "name": "#%%\n"
    }
   }
  },
  {
   "cell_type": "code",
   "execution_count": 8,
   "outputs": [
    {
     "data": {
      "text/plain": "['NLP',\n 'is',\n 'important',\n 'for',\n 'scientific',\n 'economic',\n 'social',\n 'and',\n 'cultural',\n 'reasons',\n 'NLP',\n 'is',\n 'experiencing',\n 'rapid',\n 'growth',\n 'as',\n 'its',\n 'theories',\n 'and',\n 'methods',\n 'are',\n 'deployed',\n 'in',\n 'a',\n 'variety',\n 'of',\n 'new',\n 'language',\n 'technologies',\n 'For',\n 'this',\n 'reason',\n 'it',\n 'is',\n 'important',\n 'for',\n 'a',\n 'wide',\n 'range',\n 'of',\n 'people',\n 'to',\n 'have',\n 'a',\n 'working',\n 'knowledge',\n 'of',\n 'NLP',\n 'Within',\n 'industry',\n 'this',\n 'includes',\n 'people',\n 'in',\n 'human',\n 'computer',\n 'interaction',\n 'business',\n 'information',\n 'analysis',\n 'and',\n 'web',\n 'software',\n 'development',\n 'Within',\n 'academia',\n 'it',\n 'includes',\n 'people',\n 'in',\n 'areas',\n 'from',\n 'humanities',\n 'computing',\n 'and',\n 'corpus',\n 'linguistics',\n 'through',\n 'to',\n 'computer',\n 'science',\n 'and',\n 'artificial',\n 'intelligence',\n 'To',\n 'many',\n 'people',\n 'in',\n 'academia',\n 'NLP',\n 'is',\n 'known',\n 'by',\n 'the',\n 'name',\n 'of',\n 'Computational',\n 'Linguistics',\n '']"
     },
     "execution_count": 8,
     "metadata": {},
     "output_type": "execute_result"
    }
   ],
   "source": [
    "words = re.split(r\"\\W+\", text)\n",
    "\n",
    "words"
   ],
   "metadata": {
    "collapsed": false,
    "pycharm": {
     "name": "#%%\n"
    }
   }
  },
  {
   "cell_type": "markdown",
   "source": [
    "### Word Tokenisation using NLTK Function"
   ],
   "metadata": {
    "collapsed": false
   }
  },
  {
   "cell_type": "code",
   "execution_count": 9,
   "outputs": [
    {
     "data": {
      "text/plain": "['NLP',\n 'is',\n 'important',\n 'for',\n 'scientific',\n ',',\n 'economic',\n ',',\n 'social',\n ',',\n 'and',\n 'cultural',\n 'reasons',\n '.',\n 'NLP',\n 'is',\n 'experiencing',\n 'rapid',\n 'growth',\n 'as',\n 'its',\n 'theories',\n 'and',\n 'methods',\n 'are',\n 'deployed',\n 'in',\n 'a',\n 'variety',\n 'of',\n 'new',\n 'language',\n 'technologies',\n '.',\n 'For',\n 'this',\n 'reason',\n 'it',\n 'is',\n 'important',\n 'for',\n 'a',\n 'wide',\n 'range',\n 'of',\n 'people',\n 'to',\n 'have',\n 'a',\n 'working',\n 'knowledge',\n 'of',\n 'NLP',\n '.',\n 'Within',\n 'industry',\n ',',\n 'this',\n 'includes',\n 'people',\n 'in',\n 'human-computer',\n 'interaction',\n ',',\n 'business',\n 'information',\n 'analysis',\n ',',\n 'and',\n 'web',\n 'software',\n 'development',\n '.',\n 'Within',\n 'academia',\n ',',\n 'it',\n 'includes',\n 'people',\n 'in',\n 'areas',\n 'from',\n 'humanities',\n 'computing',\n 'and',\n 'corpus',\n 'linguistics',\n 'through',\n 'to',\n 'computer',\n 'science',\n 'and',\n 'artificial',\n 'intelligence',\n '.',\n '(',\n 'To',\n 'many',\n 'people',\n 'in',\n 'academia',\n ',',\n 'NLP',\n 'is',\n 'known',\n 'by',\n 'the',\n 'name',\n 'of',\n '``',\n 'Computational',\n 'Linguistics',\n '.',\n \"''\",\n ')']"
     },
     "execution_count": 9,
     "metadata": {},
     "output_type": "execute_result"
    }
   ],
   "source": [
    "words = nltk.word_tokenize(text)\n",
    "\n",
    "words"
   ],
   "metadata": {
    "collapsed": false,
    "pycharm": {
     "name": "#%%\n"
    }
   }
  },
  {
   "cell_type": "markdown",
   "source": [
    "### Word Tokenisation using TextBlob Function"
   ],
   "metadata": {
    "collapsed": false,
    "pycharm": {
     "name": "#%% md\n"
    }
   }
  },
  {
   "cell_type": "code",
   "execution_count": 10,
   "outputs": [
    {
     "data": {
      "text/plain": "WordList(['NLP', 'is', 'important', 'for', 'scientific', 'economic', 'social', 'and', 'cultural', 'reasons', 'NLP', 'is', 'experiencing', 'rapid', 'growth', 'as', 'its', 'theories', 'and', 'methods', 'are', 'deployed', 'in', 'a', 'variety', 'of', 'new', 'language', 'technologies', 'For', 'this', 'reason', 'it', 'is', 'important', 'for', 'a', 'wide', 'range', 'of', 'people', 'to', 'have', 'a', 'working', 'knowledge', 'of', 'NLP', 'Within', 'industry', 'this', 'includes', 'people', 'in', 'human-computer', 'interaction', 'business', 'information', 'analysis', 'and', 'web', 'software', 'development', 'Within', 'academia', 'it', 'includes', 'people', 'in', 'areas', 'from', 'humanities', 'computing', 'and', 'corpus', 'linguistics', 'through', 'to', 'computer', 'science', 'and', 'artificial', 'intelligence', 'To', 'many', 'people', 'in', 'academia', 'NLP', 'is', 'known', 'by', 'the', 'name', 'of', 'Computational', 'Linguistics'])"
     },
     "execution_count": 10,
     "metadata": {},
     "output_type": "execute_result"
    }
   ],
   "source": [
    "from textblob import TextBlob\n",
    "\n",
    "blob = TextBlob(text)\n",
    "words = blob.words\n",
    "\n",
    "words"
   ],
   "metadata": {
    "collapsed": false,
    "pycharm": {
     "name": "#%%\n"
    }
   }
  },
  {
   "cell_type": "markdown",
   "source": [
    "# Q2. Form Word Stemming"
   ],
   "metadata": {
    "collapsed": false,
    "pycharm": {
     "name": "#%% md\n"
    }
   }
  },
  {
   "cell_type": "markdown",
   "source": [
    "## 2. Demonstrate word stemming using Regular Expression, Porter Stemmer and Lancaster Stemmer and report the output. (12 marks)"
   ],
   "metadata": {
    "collapsed": false
   }
  },
  {
   "cell_type": "code",
   "execution_count": 11,
   "outputs": [],
   "source": [
    "words = nltk.word_tokenize(text)"
   ],
   "metadata": {
    "collapsed": false,
    "pycharm": {
     "name": "#%%\n"
    }
   }
  },
  {
   "cell_type": "markdown",
   "source": [
    "### Word Stemming using Basic Function"
   ],
   "metadata": {
    "collapsed": false
   }
  },
  {
   "cell_type": "code",
   "execution_count": 12,
   "outputs": [
    {
     "data": {
      "text/plain": "['NLP',\n 'i',\n 'important',\n 'for',\n 'scientific',\n ',',\n 'economic',\n ',',\n 'social',\n ',',\n 'and',\n 'cultural',\n 'reason',\n '.',\n 'NLP',\n 'i',\n 'experienc',\n 'rapid',\n 'growth',\n 'a',\n 'it',\n 'theor',\n 'and',\n 'method',\n 'are',\n 'deploy',\n 'in',\n 'a',\n 'variety',\n 'of',\n 'new',\n 'language',\n 'technolog',\n '.',\n 'For',\n 'thi',\n 'reason',\n 'it',\n 'i',\n 'important',\n 'for',\n 'a',\n 'wide',\n 'range',\n 'of',\n 'people',\n 'to',\n 'have',\n 'a',\n 'work',\n 'knowledge',\n 'of',\n 'NLP',\n '.',\n 'Within',\n 'industry',\n ',',\n 'thi',\n 'includ',\n 'people',\n 'in',\n 'human-computer',\n 'interaction',\n ',',\n 'busines',\n 'information',\n 'analysi',\n ',',\n 'and',\n 'web',\n 'software',\n 'develop',\n '.',\n 'Within',\n 'academia',\n ',',\n 'it',\n 'includ',\n 'people',\n 'in',\n 'area',\n 'from',\n 'humanit',\n 'comput',\n 'and',\n 'corpu',\n 'linguistic',\n 'through',\n 'to',\n 'computer',\n 'science',\n 'and',\n 'artificial',\n 'intelligence',\n '.',\n '(',\n 'To',\n 'many',\n 'people',\n 'in',\n 'academia',\n ',',\n 'NLP',\n 'i',\n 'known',\n 'by',\n 'the',\n 'name',\n 'of',\n '``',\n 'Computational',\n 'Linguistic',\n '.',\n \"''\",\n ')']"
     },
     "execution_count": 12,
     "metadata": {},
     "output_type": "execute_result"
    }
   ],
   "source": [
    "suffixes = [\"ing\", \"ly\", \"ed\", \"ious\", \"ies\", \"ive\", \"es\", \"s\", \"ment\"]\n",
    "\n",
    "def stem(word):\n",
    "    for suffix in suffixes:\n",
    "        if word.endswith(suffix):\n",
    "            return word[:-len(suffix)]\n",
    "    return word\n",
    "\n",
    "stemmed_words = [stem(word) for word in words]\n",
    "\n",
    "stemmed_words"
   ],
   "metadata": {
    "collapsed": false,
    "pycharm": {
     "name": "#%%\n"
    }
   }
  },
  {
   "cell_type": "markdown",
   "source": [
    "### Word Stemming using Regular Expression Function"
   ],
   "metadata": {
    "collapsed": false
   }
  },
  {
   "cell_type": "code",
   "execution_count": 13,
   "outputs": [
    {
     "data": {
      "text/plain": "['NLP',\n 'i',\n 'important',\n 'for',\n 'scientific',\n ',',\n 'economic',\n ',',\n 'social',\n ',',\n 'and',\n 'cultural',\n 'reason',\n '.',\n 'NLP',\n 'i',\n 'experienc',\n 'rapid',\n 'growth',\n 'a',\n 'it',\n 'theor',\n 'and',\n 'method',\n 'are',\n 'deploy',\n 'in',\n 'a',\n 'variety',\n 'of',\n 'new',\n 'language',\n 'technolog',\n '.',\n 'For',\n 'thi',\n 'reason',\n 'it',\n 'i',\n 'important',\n 'for',\n 'a',\n 'wide',\n 'range',\n 'of',\n 'people',\n 'to',\n 'have',\n 'a',\n 'work',\n 'knowledge',\n 'of',\n 'NLP',\n '.',\n 'Within',\n 'industry',\n ',',\n 'thi',\n 'includ',\n 'people',\n 'in',\n 'human-computer',\n 'interaction',\n ',',\n 'busines',\n 'information',\n 'analysi',\n ',',\n 'and',\n 'web',\n 'software',\n 'develop',\n '.',\n 'Within',\n 'academia',\n ',',\n 'it',\n 'includ',\n 'people',\n 'in',\n 'area',\n 'from',\n 'humanit',\n 'comput',\n 'and',\n 'corpu',\n 'linguistic',\n 'through',\n 'to',\n 'computer',\n 'science',\n 'and',\n 'artificial',\n 'intelligence',\n '.',\n '(',\n 'To',\n 'many',\n 'people',\n 'in',\n 'academia',\n ',',\n 'NLP',\n 'i',\n 'known',\n 'by',\n 'the',\n 'name',\n 'of',\n '``',\n 'Computational',\n 'Linguistic',\n '.',\n \"''\",\n ')']"
     },
     "execution_count": 13,
     "metadata": {},
     "output_type": "execute_result"
    }
   ],
   "source": [
    "split_stem_pattern = r\"^(.*?)(ing|ly|ed|ious|ies|ive|es|s|ment)?$\"\n",
    "stemmed_words = [\n",
    "    re.findall(split_stem_pattern, word)[0][0]\n",
    "    for word in words\n",
    "]\n",
    "\n",
    "stemmed_words"
   ],
   "metadata": {
    "collapsed": false,
    "pycharm": {
     "name": "#%%\n"
    }
   }
  },
  {
   "cell_type": "code",
   "execution_count": 14,
   "outputs": [
    {
     "data": {
      "text/plain": "['NLP',\n 'i',\n 'important',\n 'for',\n 'scientific',\n ',',\n 'economic',\n ',',\n 'social',\n ',',\n 'and',\n 'cultural',\n 'reason',\n '.',\n 'NLP',\n 'i',\n 'experienc',\n 'rapid',\n 'growth',\n 'a',\n 'it',\n 'theor',\n 'and',\n 'method',\n 'are',\n 'deploy',\n 'in',\n 'a',\n 'variety',\n 'of',\n 'new',\n 'language',\n 'technolog',\n '.',\n 'For',\n 'thi',\n 'reason',\n 'it',\n 'i',\n 'important',\n 'for',\n 'a',\n 'wide',\n 'range',\n 'of',\n 'people',\n 'to',\n 'have',\n 'a',\n 'work',\n 'knowledge',\n 'of',\n 'NLP',\n '.',\n 'Within',\n 'industry',\n ',',\n 'thi',\n 'includ',\n 'people',\n 'in',\n 'human-computer',\n 'interaction',\n ',',\n 'busines',\n 'information',\n 'analysi',\n ',',\n 'and',\n 'web',\n 'software',\n 'develop',\n '.',\n 'Within',\n 'academia',\n ',',\n 'it',\n 'includ',\n 'people',\n 'in',\n 'area',\n 'from',\n 'humanit',\n 'comput',\n 'and',\n 'corpu',\n 'linguistic',\n 'through',\n 'to',\n 'computer',\n 'science',\n 'and',\n 'artificial',\n 'intelligence',\n '.',\n '(',\n 'To',\n 'many',\n 'people',\n 'in',\n 'academia',\n ',',\n 'NLP',\n 'i',\n 'known',\n 'by',\n 'the',\n 'name',\n 'of',\n '``',\n 'Computational',\n 'Linguistic',\n '.',\n \"''\",\n ')']"
     },
     "execution_count": 14,
     "metadata": {},
     "output_type": "execute_result"
    }
   ],
   "source": [
    "suffix_pattern = r\"(ing|ly|ed|ious|ies|ive|es|s|ment)$\"\n",
    "stemmed_words = [\n",
    "    re.sub(suffix_pattern, \"\", word)\n",
    "    for word in words\n",
    "]\n",
    "\n",
    "stemmed_words"
   ],
   "metadata": {
    "collapsed": false,
    "pycharm": {
     "name": "#%%\n"
    }
   }
  },
  {
   "cell_type": "markdown",
   "source": [
    "### Word Stemming using Porter Stemmer Function"
   ],
   "metadata": {
    "collapsed": false
   }
  },
  {
   "cell_type": "code",
   "execution_count": 15,
   "outputs": [
    {
     "data": {
      "text/plain": "['nlp',\n 'is',\n 'import',\n 'for',\n 'scientif',\n ',',\n 'econom',\n ',',\n 'social',\n ',',\n 'and',\n 'cultur',\n 'reason',\n '.',\n 'nlp',\n 'is',\n 'experienc',\n 'rapid',\n 'growth',\n 'as',\n 'it',\n 'theori',\n 'and',\n 'method',\n 'are',\n 'deploy',\n 'in',\n 'a',\n 'varieti',\n 'of',\n 'new',\n 'languag',\n 'technolog',\n '.',\n 'for',\n 'thi',\n 'reason',\n 'it',\n 'is',\n 'import',\n 'for',\n 'a',\n 'wide',\n 'rang',\n 'of',\n 'peopl',\n 'to',\n 'have',\n 'a',\n 'work',\n 'knowledg',\n 'of',\n 'nlp',\n '.',\n 'within',\n 'industri',\n ',',\n 'thi',\n 'includ',\n 'peopl',\n 'in',\n 'human-comput',\n 'interact',\n ',',\n 'busi',\n 'inform',\n 'analysi',\n ',',\n 'and',\n 'web',\n 'softwar',\n 'develop',\n '.',\n 'within',\n 'academia',\n ',',\n 'it',\n 'includ',\n 'peopl',\n 'in',\n 'area',\n 'from',\n 'human',\n 'comput',\n 'and',\n 'corpu',\n 'linguist',\n 'through',\n 'to',\n 'comput',\n 'scienc',\n 'and',\n 'artifici',\n 'intellig',\n '.',\n '(',\n 'to',\n 'mani',\n 'peopl',\n 'in',\n 'academia',\n ',',\n 'nlp',\n 'is',\n 'known',\n 'by',\n 'the',\n 'name',\n 'of',\n '``',\n 'comput',\n 'linguist',\n '.',\n \"''\",\n ')']"
     },
     "execution_count": 15,
     "metadata": {},
     "output_type": "execute_result"
    }
   ],
   "source": [
    "porter_stemmer = nltk.PorterStemmer()\n",
    "stemmed_words = [\n",
    "    porter_stemmer.stem(word) for word in words\n",
    "]\n",
    "\n",
    "stemmed_words"
   ],
   "metadata": {
    "collapsed": false,
    "pycharm": {
     "name": "#%%\n"
    }
   }
  },
  {
   "cell_type": "markdown",
   "source": [
    "### Word Stemming using Lancaster Stemmer Function"
   ],
   "metadata": {
    "collapsed": false
   }
  },
  {
   "cell_type": "code",
   "execution_count": 16,
   "outputs": [
    {
     "data": {
      "text/plain": "['nlp',\n 'is',\n 'import',\n 'for',\n 'sci',\n ',',\n 'econom',\n ',',\n 'soc',\n ',',\n 'and',\n 'cult',\n 'reason',\n '.',\n 'nlp',\n 'is',\n 'expery',\n 'rapid',\n 'grow',\n 'as',\n 'it',\n 'the',\n 'and',\n 'method',\n 'ar',\n 'deploy',\n 'in',\n 'a',\n 'vary',\n 'of',\n 'new',\n 'langu',\n 'technolog',\n '.',\n 'for',\n 'thi',\n 'reason',\n 'it',\n 'is',\n 'import',\n 'for',\n 'a',\n 'wid',\n 'rang',\n 'of',\n 'peopl',\n 'to',\n 'hav',\n 'a',\n 'work',\n 'knowledg',\n 'of',\n 'nlp',\n '.',\n 'within',\n 'industry',\n ',',\n 'thi',\n 'includ',\n 'peopl',\n 'in',\n 'human-computer',\n 'interact',\n ',',\n 'busy',\n 'inform',\n 'analys',\n ',',\n 'and',\n 'web',\n 'softw',\n 'develop',\n '.',\n 'within',\n 'academ',\n ',',\n 'it',\n 'includ',\n 'peopl',\n 'in',\n 'area',\n 'from',\n 'hum',\n 'comput',\n 'and',\n 'corp',\n 'lingu',\n 'through',\n 'to',\n 'comput',\n 'sci',\n 'and',\n 'art',\n 'intellig',\n '.',\n '(',\n 'to',\n 'many',\n 'peopl',\n 'in',\n 'academ',\n ',',\n 'nlp',\n 'is',\n 'known',\n 'by',\n 'the',\n 'nam',\n 'of',\n '``',\n 'comput',\n 'lingu',\n '.',\n \"''\",\n ')']"
     },
     "execution_count": 16,
     "metadata": {},
     "output_type": "execute_result"
    }
   ],
   "source": [
    "lancaster_stemmer = nltk.LancasterStemmer()\n",
    "stemmed_words = [\n",
    "    lancaster_stemmer.stem(word) for word in words\n",
    "]\n",
    "\n",
    "stemmed_words"
   ],
   "metadata": {
    "collapsed": false,
    "pycharm": {
     "name": "#%%\n"
    }
   }
  },
  {
   "cell_type": "markdown",
   "source": [
    "### Word Stemming using Snowball Stemmer Function"
   ],
   "metadata": {
    "collapsed": false
   }
  },
  {
   "cell_type": "code",
   "execution_count": 17,
   "outputs": [
    {
     "data": {
      "text/plain": "['nlp',\n 'is',\n 'import',\n 'for',\n 'scientif',\n ',',\n 'econom',\n ',',\n 'social',\n ',',\n 'and',\n 'cultur',\n 'reason',\n '.',\n 'nlp',\n 'is',\n 'experienc',\n 'rapid',\n 'growth',\n 'as',\n 'it',\n 'theori',\n 'and',\n 'method',\n 'are',\n 'deploy',\n 'in',\n 'a',\n 'varieti',\n 'of',\n 'new',\n 'languag',\n 'technolog',\n '.',\n 'for',\n 'this',\n 'reason',\n 'it',\n 'is',\n 'import',\n 'for',\n 'a',\n 'wide',\n 'rang',\n 'of',\n 'peopl',\n 'to',\n 'have',\n 'a',\n 'work',\n 'knowledg',\n 'of',\n 'nlp',\n '.',\n 'within',\n 'industri',\n ',',\n 'this',\n 'includ',\n 'peopl',\n 'in',\n 'human-comput',\n 'interact',\n ',',\n 'busi',\n 'inform',\n 'analysi',\n ',',\n 'and',\n 'web',\n 'softwar',\n 'develop',\n '.',\n 'within',\n 'academia',\n ',',\n 'it',\n 'includ',\n 'peopl',\n 'in',\n 'area',\n 'from',\n 'human',\n 'comput',\n 'and',\n 'corpus',\n 'linguist',\n 'through',\n 'to',\n 'comput',\n 'scienc',\n 'and',\n 'artifici',\n 'intellig',\n '.',\n '(',\n 'to',\n 'mani',\n 'peopl',\n 'in',\n 'academia',\n ',',\n 'nlp',\n 'is',\n 'known',\n 'by',\n 'the',\n 'name',\n 'of',\n '``',\n 'comput',\n 'linguist',\n '.',\n \"''\",\n ')']"
     },
     "execution_count": 17,
     "metadata": {},
     "output_type": "execute_result"
    }
   ],
   "source": [
    "snowball_stemmer = nltk.SnowballStemmer(language=\"english\")\n",
    "stemmed_words = [\n",
    "    snowball_stemmer.stem(word) for word in words\n",
    "]\n",
    "\n",
    "stemmed_words"
   ],
   "metadata": {
    "collapsed": false,
    "pycharm": {
     "name": "#%%\n"
    }
   }
  },
  {
   "cell_type": "markdown",
   "source": [
    "# Q3. Filter Stop Words and Punctuation"
   ],
   "metadata": {
    "collapsed": false
   }
  },
  {
   "cell_type": "markdown",
   "source": [
    "## 1. Demonstrate stop words and punctuations removal from the given text corpus and report the output suitably. (12 marks)"
   ],
   "metadata": {
    "collapsed": false
   }
  },
  {
   "cell_type": "markdown",
   "source": [
    "### Words before Filtering"
   ],
   "metadata": {
    "collapsed": false
   }
  },
  {
   "cell_type": "code",
   "execution_count": 18,
   "outputs": [
    {
     "data": {
      "text/plain": "['nlp',\n 'is',\n 'important',\n 'for',\n 'scientific',\n ',',\n 'economic',\n ',',\n 'social',\n ',',\n 'and',\n 'cultural',\n 'reasons',\n '.',\n 'nlp',\n 'is',\n 'experiencing',\n 'rapid',\n 'growth',\n 'as',\n 'its',\n 'theories',\n 'and',\n 'methods',\n 'are',\n 'deployed',\n 'in',\n 'a',\n 'variety',\n 'of',\n 'new',\n 'language',\n 'technologies',\n '.',\n 'for',\n 'this',\n 'reason',\n 'it',\n 'is',\n 'important',\n 'for',\n 'a',\n 'wide',\n 'range',\n 'of',\n 'people',\n 'to',\n 'have',\n 'a',\n 'working',\n 'knowledge',\n 'of',\n 'nlp',\n '.',\n 'within',\n 'industry',\n ',',\n 'this',\n 'includes',\n 'people',\n 'in',\n 'human-computer',\n 'interaction',\n ',',\n 'business',\n 'information',\n 'analysis',\n ',',\n 'and',\n 'web',\n 'software',\n 'development',\n '.',\n 'within',\n 'academia',\n ',',\n 'it',\n 'includes',\n 'people',\n 'in',\n 'areas',\n 'from',\n 'humanities',\n 'computing',\n 'and',\n 'corpus',\n 'linguistics',\n 'through',\n 'to',\n 'computer',\n 'science',\n 'and',\n 'artificial',\n 'intelligence',\n '.',\n '(',\n 'to',\n 'many',\n 'people',\n 'in',\n 'academia',\n ',',\n 'nlp',\n 'is',\n 'known',\n 'by',\n 'the',\n 'name',\n 'of',\n '``',\n 'computational',\n 'linguistics',\n '.',\n \"''\",\n ')']"
     },
     "execution_count": 18,
     "metadata": {},
     "output_type": "execute_result"
    }
   ],
   "source": [
    "words = nltk.word_tokenize(text.lower())\n",
    "\n",
    "words"
   ],
   "metadata": {
    "collapsed": false,
    "pycharm": {
     "name": "#%%\n"
    }
   }
  },
  {
   "cell_type": "markdown",
   "source": [
    "### Stop Words"
   ],
   "metadata": {
    "collapsed": false
   }
  },
  {
   "cell_type": "code",
   "execution_count": 19,
   "outputs": [
    {
     "data": {
      "text/plain": "['i',\n 'me',\n 'my',\n 'myself',\n 'we',\n 'our',\n 'ours',\n 'ourselves',\n 'you',\n \"you're\",\n \"you've\",\n \"you'll\",\n \"you'd\",\n 'your',\n 'yours',\n 'yourself',\n 'yourselves',\n 'he',\n 'him',\n 'his',\n 'himself',\n 'she',\n \"she's\",\n 'her',\n 'hers',\n 'herself',\n 'it',\n \"it's\",\n 'its',\n 'itself',\n 'they',\n 'them',\n 'their',\n 'theirs',\n 'themselves',\n 'what',\n 'which',\n 'who',\n 'whom',\n 'this',\n 'that',\n \"that'll\",\n 'these',\n 'those',\n 'am',\n 'is',\n 'are',\n 'was',\n 'were',\n 'be',\n 'been',\n 'being',\n 'have',\n 'has',\n 'had',\n 'having',\n 'do',\n 'does',\n 'did',\n 'doing',\n 'a',\n 'an',\n 'the',\n 'and',\n 'but',\n 'if',\n 'or',\n 'because',\n 'as',\n 'until',\n 'while',\n 'of',\n 'at',\n 'by',\n 'for',\n 'with',\n 'about',\n 'against',\n 'between',\n 'into',\n 'through',\n 'during',\n 'before',\n 'after',\n 'above',\n 'below',\n 'to',\n 'from',\n 'up',\n 'down',\n 'in',\n 'out',\n 'on',\n 'off',\n 'over',\n 'under',\n 'again',\n 'further',\n 'then',\n 'once',\n 'here',\n 'there',\n 'when',\n 'where',\n 'why',\n 'how',\n 'all',\n 'any',\n 'both',\n 'each',\n 'few',\n 'more',\n 'most',\n 'other',\n 'some',\n 'such',\n 'no',\n 'nor',\n 'not',\n 'only',\n 'own',\n 'same',\n 'so',\n 'than',\n 'too',\n 'very',\n 's',\n 't',\n 'can',\n 'will',\n 'just',\n 'don',\n \"don't\",\n 'should',\n \"should've\",\n 'now',\n 'd',\n 'll',\n 'm',\n 'o',\n 're',\n 've',\n 'y',\n 'ain',\n 'aren',\n \"aren't\",\n 'couldn',\n \"couldn't\",\n 'didn',\n \"didn't\",\n 'doesn',\n \"doesn't\",\n 'hadn',\n \"hadn't\",\n 'hasn',\n \"hasn't\",\n 'haven',\n \"haven't\",\n 'isn',\n \"isn't\",\n 'ma',\n 'mightn',\n \"mightn't\",\n 'mustn',\n \"mustn't\",\n 'needn',\n \"needn't\",\n 'shan',\n \"shan't\",\n 'shouldn',\n \"shouldn't\",\n 'wasn',\n \"wasn't\",\n 'weren',\n \"weren't\",\n 'won',\n \"won't\",\n 'wouldn',\n \"wouldn't\"]"
     },
     "execution_count": 19,
     "metadata": {},
     "output_type": "execute_result"
    }
   ],
   "source": [
    "import string\n",
    "\n",
    "stop_words = nltk.corpus.stopwords.words('english')\n",
    "\n",
    "stop_words"
   ],
   "metadata": {
    "collapsed": false,
    "pycharm": {
     "name": "#%%\n"
    }
   }
  },
  {
   "cell_type": "markdown",
   "source": [
    "### Negation Words"
   ],
   "metadata": {
    "collapsed": false
   }
  },
  {
   "cell_type": "code",
   "execution_count": 20,
   "outputs": [
    {
     "data": {
      "text/plain": "['no',\n 'nor',\n 'not',\n 'don',\n \"don't\",\n 'ain',\n 'aren',\n \"aren't\",\n 'couldn',\n \"couldn't\",\n 'didn',\n \"didn't\",\n 'doesn',\n \"doesn't\",\n 'hadn',\n \"hadn't\",\n 'hasn',\n \"hasn't\",\n 'haven',\n \"haven't\",\n 'isn',\n \"isn't\",\n 'mightn',\n \"mightn't\",\n 'mustn',\n \"mustn't\",\n 'needn',\n \"needn't\",\n 'shan',\n \"shan't\",\n 'shouldn',\n \"shouldn't\",\n 'wasn',\n \"wasn't\",\n 'weren',\n \"weren't\",\n 'won',\n \"won't\",\n 'wouldn',\n \"wouldn't\"]"
     },
     "execution_count": 20,
     "metadata": {},
     "output_type": "execute_result"
    }
   ],
   "source": [
    "negation_word_pattern = (\n",
    "    r\"^(nor?|.*(not|'t|[dst]n)|(ai|are|do|have|sha|were|wo)n)$\"\n",
    ")\n",
    "r = re.compile(negation_word_pattern)\n",
    "negation_word = list(filter(r.match, stop_words))\n",
    "\n",
    "negation_word"
   ],
   "metadata": {
    "collapsed": false,
    "pycharm": {
     "name": "#%%\n"
    }
   }
  },
  {
   "cell_type": "markdown",
   "source": [
    "### Words and Punctuations to be Removed"
   ],
   "metadata": {
    "collapsed": false
   }
  },
  {
   "cell_type": "code",
   "execution_count": 21,
   "outputs": [
    {
     "data": {
      "text/plain": "['i',\n 'me',\n 'my',\n 'myself',\n 'we',\n 'our',\n 'ours',\n 'ourselves',\n 'you',\n \"you're\",\n \"you've\",\n \"you'll\",\n \"you'd\",\n 'your',\n 'yours',\n 'yourself',\n 'yourselves',\n 'he',\n 'him',\n 'his',\n 'himself',\n 'she',\n \"she's\",\n 'her',\n 'hers',\n 'herself',\n 'it',\n \"it's\",\n 'its',\n 'itself',\n 'they',\n 'them',\n 'their',\n 'theirs',\n 'themselves',\n 'what',\n 'which',\n 'who',\n 'whom',\n 'this',\n 'that',\n \"that'll\",\n 'these',\n 'those',\n 'am',\n 'is',\n 'are',\n 'was',\n 'were',\n 'be',\n 'been',\n 'being',\n 'have',\n 'has',\n 'had',\n 'having',\n 'do',\n 'does',\n 'did',\n 'doing',\n 'a',\n 'an',\n 'the',\n 'and',\n 'but',\n 'if',\n 'or',\n 'because',\n 'as',\n 'until',\n 'while',\n 'of',\n 'at',\n 'by',\n 'for',\n 'with',\n 'about',\n 'against',\n 'between',\n 'into',\n 'through',\n 'during',\n 'before',\n 'after',\n 'above',\n 'below',\n 'to',\n 'from',\n 'up',\n 'down',\n 'in',\n 'out',\n 'on',\n 'off',\n 'over',\n 'under',\n 'again',\n 'further',\n 'then',\n 'once',\n 'here',\n 'there',\n 'when',\n 'where',\n 'why',\n 'how',\n 'all',\n 'any',\n 'both',\n 'each',\n 'few',\n 'more',\n 'most',\n 'other',\n 'some',\n 'such',\n 'only',\n 'own',\n 'same',\n 'so',\n 'than',\n 'too',\n 'very',\n 's',\n 't',\n 'can',\n 'will',\n 'just',\n 'should',\n \"should've\",\n 'now',\n 'd',\n 'll',\n 'm',\n 'o',\n 're',\n 've',\n 'y',\n 'ma',\n '!',\n '\"',\n '#',\n '$',\n '%',\n '&',\n \"'\",\n '(',\n ')',\n '*',\n '+',\n ',',\n '-',\n '.',\n '/',\n ':',\n ';',\n '<',\n '=',\n '>',\n '?',\n '@',\n '[',\n '\\\\',\n ']',\n '^',\n '_',\n '`',\n '{',\n '|',\n '}',\n '~',\n '``',\n \"''\"]"
     },
     "execution_count": 21,
     "metadata": {},
     "output_type": "execute_result"
    }
   ],
   "source": [
    "remove_stop_words = [\n",
    "    word\n",
    "    for word in stop_words\n",
    "    if word not in negation_word\n",
    "]\n",
    "punctuations = list(string.punctuation)\n",
    "double_quotes = [\"``\", \"''\"]\n",
    "remove_words = remove_stop_words + punctuations + double_quotes\n",
    "\n",
    "remove_words"
   ],
   "metadata": {
    "collapsed": false,
    "pycharm": {
     "name": "#%%\n"
    }
   }
  },
  {
   "cell_type": "markdown",
   "source": [
    "### Words after Filtering"
   ],
   "metadata": {
    "collapsed": false
   }
  },
  {
   "cell_type": "code",
   "execution_count": 22,
   "outputs": [
    {
     "data": {
      "text/plain": "['nlp',\n 'important',\n 'scientific',\n 'economic',\n 'social',\n 'cultural',\n 'reasons',\n 'nlp',\n 'experiencing',\n 'rapid',\n 'growth',\n 'theories',\n 'methods',\n 'deployed',\n 'variety',\n 'new',\n 'language',\n 'technologies',\n 'reason',\n 'important',\n 'wide',\n 'range',\n 'people',\n 'working',\n 'knowledge',\n 'nlp',\n 'within',\n 'industry',\n 'includes',\n 'people',\n 'human-computer',\n 'interaction',\n 'business',\n 'information',\n 'analysis',\n 'web',\n 'software',\n 'development',\n 'within',\n 'academia',\n 'includes',\n 'people',\n 'areas',\n 'humanities',\n 'computing',\n 'corpus',\n 'linguistics',\n 'computer',\n 'science',\n 'artificial',\n 'intelligence',\n 'many',\n 'people',\n 'academia',\n 'nlp',\n 'known',\n 'name',\n 'computational',\n 'linguistics']"
     },
     "execution_count": 22,
     "metadata": {},
     "output_type": "execute_result"
    }
   ],
   "source": [
    "filtered_words = [\n",
    "    word\n",
    "    for word in words\n",
    "    if word not in remove_words\n",
    "]\n",
    "\n",
    "filtered_words"
   ],
   "metadata": {
    "collapsed": false,
    "pycharm": {
     "name": "#%%\n"
    }
   }
  },
  {
   "cell_type": "markdown",
   "source": [
    "## 2. Report the stop words found in the given text corpus. (6 marks)"
   ],
   "metadata": {
    "collapsed": false
   }
  },
  {
   "cell_type": "code",
   "execution_count": 23,
   "outputs": [
    {
     "data": {
      "text/plain": "[('and', 5),\n ('is', 4),\n ('in', 4),\n ('of', 4),\n ('for', 3),\n ('a', 3),\n ('to', 3),\n ('this', 2),\n ('it', 2),\n ('as', 1),\n ('its', 1),\n ('are', 1),\n ('have', 1),\n ('from', 1),\n ('through', 1),\n ('by', 1),\n ('the', 1)]"
     },
     "execution_count": 23,
     "metadata": {},
     "output_type": "execute_result"
    }
   ],
   "source": [
    "stop_words_found = [\n",
    "    word\n",
    "    for word in words\n",
    "    if word in stop_words\n",
    "]\n",
    "\n",
    "freq_dist = nltk.FreqDist(stop_words_found)\n",
    "\n",
    "freq_dist.most_common()"
   ],
   "metadata": {
    "collapsed": false,
    "pycharm": {
     "name": "#%%\n"
    }
   }
  },
  {
   "cell_type": "code",
   "execution_count": 24,
   "outputs": [
    {
     "data": {
      "text/plain": "'38 stop words found.'"
     },
     "execution_count": 24,
     "metadata": {},
     "output_type": "execute_result"
    }
   ],
   "source": [
    "f\"{len(stop_words_found)} stop words found.\""
   ],
   "metadata": {
    "collapsed": false,
    "pycharm": {
     "name": "#%%\n"
    }
   }
  },
  {
   "cell_type": "code",
   "source": [
    "f\"{len(freq_dist)} types of stop words found.\""
   ],
   "metadata": {
    "collapsed": false,
    "pycharm": {
     "name": "#%%\n"
    }
   },
   "execution_count": 25,
   "outputs": [
    {
     "data": {
      "text/plain": "'17 types of stop words found.'"
     },
     "execution_count": 25,
     "metadata": {},
     "output_type": "execute_result"
    }
   ]
  },
  {
   "cell_type": "markdown",
   "source": [
    "# Q4. Form Parts of Speech (POS) Taggers & Syntactic Analysers"
   ],
   "metadata": {
    "collapsed": false
   }
  },
  {
   "cell_type": "markdown",
   "source": [
    "### Open, Read and Close Data_2 Textfile"
   ],
   "metadata": {
    "collapsed": false,
    "pycharm": {
     "name": "#%% md\n"
    }
   }
  },
  {
   "cell_type": "code",
   "execution_count": 26,
   "outputs": [
    {
     "data": {
      "text/plain": "'The little black dog barked at the white cat and chased away.'"
     },
     "execution_count": 26,
     "metadata": {},
     "output_type": "execute_result"
    }
   ],
   "source": [
    "data_file2 = \"data/Data_2.txt\"\n",
    "with open(file=data_file2) as f:\n",
    "    text2 = f.read()\n",
    "\n",
    "text2"
   ],
   "metadata": {
    "collapsed": false,
    "pycharm": {
     "name": "#%%\n"
    }
   }
  },
  {
   "cell_type": "markdown",
   "source": [
    "## 1. Demonstrate POS tagging using NLTK POS tagger, textblob POS tagger and the Regular Expression tagger and report the output. (9 marks)"
   ],
   "metadata": {
    "collapsed": false
   }
  },
  {
   "cell_type": "markdown",
   "source": [
    "### Pre-processing Text"
   ],
   "metadata": {
    "collapsed": false
   }
  },
  {
   "cell_type": "code",
   "execution_count": 27,
   "outputs": [
    {
     "data": {
      "text/plain": "['the',\n 'little',\n 'black',\n 'dog',\n 'barked',\n 'at',\n 'the',\n 'white',\n 'cat',\n 'and',\n 'chased',\n 'away']"
     },
     "execution_count": 27,
     "metadata": {},
     "output_type": "execute_result"
    }
   ],
   "source": [
    "punctuations = string.punctuation\n",
    "words = [\n",
    "    word.lower()\n",
    "    for word in nltk.word_tokenize(text2)\n",
    "    if word not in punctuations\n",
    "]\n",
    "\n",
    "words"
   ],
   "metadata": {
    "collapsed": false,
    "pycharm": {
     "name": "#%%\n"
    }
   }
  },
  {
   "cell_type": "markdown",
   "source": [
    "### POS Tagging using NLTK POS Tagger"
   ],
   "metadata": {
    "collapsed": false
   }
  },
  {
   "cell_type": "code",
   "execution_count": 28,
   "outputs": [
    {
     "data": {
      "text/plain": "[('the', 'DT'),\n ('little', 'JJ'),\n ('black', 'JJ'),\n ('dog', 'NN'),\n ('barked', 'VBD'),\n ('at', 'IN'),\n ('the', 'DT'),\n ('white', 'JJ'),\n ('cat', 'NN'),\n ('and', 'CC'),\n ('chased', 'VBD'),\n ('away', 'RB')]"
     },
     "execution_count": 28,
     "metadata": {},
     "output_type": "execute_result"
    }
   ],
   "source": [
    "tagged_tokens = nltk.pos_tag(words)\n",
    "\n",
    "tagged_tokens"
   ],
   "metadata": {
    "collapsed": false,
    "pycharm": {
     "name": "#%%\n"
    }
   }
  },
  {
   "cell_type": "markdown",
   "source": [
    "### POS Tagging using TextBlob POS Tagger"
   ],
   "metadata": {
    "collapsed": false
   }
  },
  {
   "cell_type": "code",
   "execution_count": 29,
   "outputs": [
    {
     "data": {
      "text/plain": "[('the', 'DT'),\n ('little', 'JJ'),\n ('black', 'JJ'),\n ('dog', 'NN'),\n ('barked', 'VBD'),\n ('at', 'IN'),\n ('the', 'DT'),\n ('white', 'JJ'),\n ('cat', 'NN'),\n ('and', 'CC'),\n ('chased', 'VBD'),\n ('away', 'RB')]"
     },
     "execution_count": 29,
     "metadata": {},
     "output_type": "execute_result"
    }
   ],
   "source": [
    "blob = TextBlob(text2.lower())\n",
    "tagged_tokens = blob.tags\n",
    "\n",
    "tagged_tokens"
   ],
   "metadata": {
    "collapsed": false,
    "pycharm": {
     "name": "#%%\n"
    }
   }
  },
  {
   "cell_type": "markdown",
   "source": [
    "### POS Tagging using Regular Expression Tagger"
   ],
   "metadata": {
    "collapsed": false
   }
  },
  {
   "cell_type": "code",
   "execution_count": 30,
   "outputs": [
    {
     "data": {
      "text/plain": "[('the', 'NN'),\n ('little', 'NN'),\n ('black', 'NN'),\n ('dog', 'NN'),\n ('barked', 'VBD'),\n ('at', 'NN'),\n ('the', 'NN'),\n ('white', 'NN'),\n ('cat', 'NN'),\n ('and', 'NN'),\n ('chased', 'VBD'),\n ('away', 'NN')]"
     },
     "execution_count": 30,
     "metadata": {},
     "output_type": "execute_result"
    }
   ],
   "source": [
    "patterns = [\n",
    "    (r'.*ing$', 'VBG'),     # gerunds\n",
    "    (r'.*ed$', 'VBD'),      # simple past\n",
    "    (r'.*es$', 'VBZ'),      # 3rd singular present\n",
    "    (r'.*ould$', 'MD'),     # modals\n",
    "    (r'.*\\'s$', 'NN$'),     # possessive nouns\n",
    "    (r'.*s$', 'NNS'),       # plural nouns\n",
    "    (r'^-?[0-9]+(.[0-9]+)?$', 'CD'),  # cardinal numbers\n",
    "    (r'.*', 'NN'),          # nouns (default)\n",
    "    (r'^\\d+$', 'CD'),\n",
    "    (r'.*ing$', 'VBG'),     # gerunds, i.e. wondering\n",
    "    (r'.*ment$', 'NN'),     # i.e. wonderment\n",
    "    (r'.*ful$', 'JJ')       # i.e. wonderful\n",
    "]\n",
    "regexp_tagger = nltk.RegexpTagger(patterns)\n",
    "tagged_tokens = regexp_tagger.tag(words)\n",
    "\n",
    "tagged_tokens"
   ],
   "metadata": {
    "collapsed": false,
    "pycharm": {
     "name": "#%%\n"
    }
   }
  },
  {
   "cell_type": "markdown",
   "source": [
    "## 4. Draw possible parse trees for the given sentences using suitable python codes and report the Parse Trees along with the Python code. (5 marks)"
   ],
   "metadata": {
    "collapsed": false
   }
  },
  {
   "cell_type": "code",
   "execution_count": 31,
   "outputs": [
    {
     "name": "stdout",
     "output_type": "stream",
     "text": [
      "(S\n",
      "  (NP (Det the) (NP (Nom (Adj little) (Adj black) (N dog))))\n",
      "  (VP\n",
      "    (VP\n",
      "      (VP\n",
      "        (VP (V barked))\n",
      "        (PP (P at) (NP (Det the) (NP (Nom (Adj white) (N cat))))))\n",
      "      (CC and)\n",
      "      (VP (V chased)))\n",
      "    (Adv away)))\n",
      "(S\n",
      "  (NP (Det the) (NP (Nom (Adj little) (Nom (Adj black) (N dog)))))\n",
      "  (VP\n",
      "    (VP\n",
      "      (VP\n",
      "        (VP (V barked))\n",
      "        (PP (P at) (NP (Det the) (NP (Nom (Adj white) (N cat))))))\n",
      "      (CC and)\n",
      "      (VP (V chased)))\n",
      "    (Adv away)))\n",
      "(S\n",
      "  (NP (Det the) (NP (Nom (Adj little) (Adj black) (N dog))))\n",
      "  (VP\n",
      "    (VP\n",
      "      (VP (V barked))\n",
      "      (PP (P at) (NP (Det the) (NP (Nom (Adj white) (N cat))))))\n",
      "    (CC and)\n",
      "    (VP (VP (V chased)) (Adv away))))\n",
      "(S\n",
      "  (NP (Det the) (NP (Nom (Adj little) (Nom (Adj black) (N dog)))))\n",
      "  (VP\n",
      "    (VP\n",
      "      (VP (V barked))\n",
      "      (PP (P at) (NP (Det the) (NP (Nom (Adj white) (N cat))))))\n",
      "    (CC and)\n",
      "    (VP (VP (V chased)) (Adv away))))\n"
     ]
    }
   ],
   "source": [
    "inputs = [\n",
    "    \"S -> S CC S | NP VP\",\n",
    "    \"VP -> VP CC VP | VP NP | VP Adv | VP PP | V\",\n",
    "    \"NP -> NP CC NP | NP PP | Det NP | Nom | N\",\n",
    "    \"PP -> P NP\",\n",
    "    \"Nom -> Adj Nom | Adj Adj N | Adj N\",\n",
    "    \"N -> N CC N | 'dog' | 'cat'\",\n",
    "    \"V -> 'barked' | 'chased'\",\n",
    "    \"Adj -> 'little' | 'black' | 'white'\",\n",
    "    \"P -> 'at'\",\n",
    "    \"CC -> 'and'\",\n",
    "    \"Adv -> 'away'\",\n",
    "    \"Det -> 'the'\",\n",
    "]\n",
    "grammar = nltk.CFG.fromstring(inputs)\n",
    "\n",
    "chart_parser = nltk.ChartParser(grammar=grammar)\n",
    "trees = chart_parser.parse(words)\n",
    "for tree in trees:\n",
    "    tree.draw()\n",
    "    print(tree)"
   ],
   "metadata": {
    "collapsed": false,
    "pycharm": {
     "name": "#%%\n"
    }
   }
  },
  {
   "cell_type": "markdown",
   "source": [
    "# Helper Functions"
   ],
   "metadata": {
    "collapsed": false
   }
  },
  {
   "cell_type": "markdown",
   "source": [
    "### Print documentation of a tag"
   ],
   "metadata": {
    "collapsed": false
   }
  },
  {
   "cell_type": "code",
   "execution_count": 32,
   "outputs": [
    {
     "name": "stdout",
     "output_type": "stream",
     "text": [
      "VBG: verb, present participle or gerund\n",
      "    telegraphing stirring focusing angering judging stalling lactating\n",
      "    hankerin' alleging veering capping approaching traveling besieging\n",
      "    encrypting interrupting erasing wincing ...\n"
     ]
    }
   ],
   "source": [
    "nltk.help.upenn_tagset('VBG')"
   ],
   "metadata": {
    "collapsed": false,
    "pycharm": {
     "name": "#%%\n"
    }
   }
  },
  {
   "cell_type": "markdown",
   "source": [
    "# !!! Important !!!"
   ],
   "metadata": {
    "collapsed": false
   }
  },
  {
   "cell_type": "code",
   "execution_count": 33,
   "outputs": [
    {
     "data": {
      "text/plain": "['I am a pig.', 'I lup duck.', 'And, I miss duck']"
     },
     "execution_count": 33,
     "metadata": {},
     "output_type": "execute_result"
    }
   ],
   "source": [
    "nltk.tokenize.sent_tokenize(\n",
    "    \"I am a pig. I lup duck. And, I miss duck\"\n",
    ")"
   ],
   "metadata": {
    "collapsed": false,
    "pycharm": {
     "name": "#%%\n"
    }
   }
  }
 ],
 "metadata": {
  "kernelspec": {
   "display_name": "Python 3",
   "language": "python",
   "name": "python3"
  },
  "language_info": {
   "codemirror_mode": {
    "name": "ipython",
    "version": 2
   },
   "file_extension": ".py",
   "mimetype": "text/x-python",
   "name": "python",
   "nbconvert_exporter": "python",
   "pygments_lexer": "ipython2",
   "version": "2.7.6"
  }
 },
 "nbformat": 4,
 "nbformat_minor": 0
}